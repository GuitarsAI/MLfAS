{
 "cells": [
  {
   "cell_type": "markdown",
   "metadata": {
    "slideshow": {
     "slide_type": "slide"
    }
   },
   "source": [
    "<center>\n",
    "    <img src=\"./images/mlfasp.png\">\n",
    "</center>\n",
    "\n",
    "#### Prof. Dr. -Ing. Gerald Schuller <br> Jupyter Notebook: Renato Profeta\n",
    "\n",
    "[Applied Media Systems Group](https://www.tu-ilmenau.de/en/applied-media-systems-group/) <br>\n",
    "[Technische Universität Ilmenau](https://www.tu-ilmenau.de/)"
   ]
  },
  {
   "cell_type": "code",
   "execution_count": 15,
   "metadata": {
    "hide_input": true
   },
   "outputs": [],
   "source": [
    "# Settings for Google Colab\n",
    "RunningInCOLAB = 'google.colab' in str(get_ipython())\n",
    "if RunningInCOLAB:\n",
    "    !git clone https://github.com/GuitarsAI/MLfAS.git\n",
    "    !mv MLfAS/images/ ./"
   ]
  },
  {
   "cell_type": "markdown",
   "metadata": {
    "hide_input": true,
    "slideshow": {
     "slide_type": "-"
    }
   },
   "source": [
    "# Neural Network Detector for MNIST Digit Recognition"
   ]
  },
  {
   "cell_type": "code",
   "execution_count": 12,
   "metadata": {
    "hide_input": true
   },
   "outputs": [
    {
     "data": {
      "text/html": [
       "<iframe width=\"560\" height=\"315\" src=\"https://www.youtube.com/embed/9jNt0C5quL4?rel=0\" frameborder=\"0\" allow=\"accelerometer; encrypted-media; gyroscope; picture-in-picture\" allowfullscreen></iframe>\n"
      ],
      "text/plain": [
       "<IPython.core.display.HTML object>"
      ]
     },
     "metadata": {},
     "output_type": "display_data"
    }
   ],
   "source": [
    "%%html\n",
    "<iframe width=\"560\" height=\"315\" src=\"https://www.youtube.com/embed/9jNt0C5quL4?rel=0\" frameborder=\"0\" allow=\"accelerometer; encrypted-media; gyroscope; picture-in-picture\" allowfullscreen></iframe>"
   ]
  },
  {
   "cell_type": "markdown",
   "metadata": {
    "hide_input": false,
    "slideshow": {
     "slide_type": "-"
    }
   },
   "source": [
    "In part 3 we saw how to use a classifier network for MNIST digit recognition. There usually we assume that the input is a digit, hence we can normalize the network classes outputs such that they represent a probability distribution which adds to one. But often in applications we would like to recognize patterns or objects, but don’t know if they are present in the input. For instance we could have a life digit recognizer, which takes a camera as input. In this case, sometime we place a paper, for instance a letter with a zip code, in front of a camera, and at other times not, which should not confuse the recognizer.\n",
    "\n",
    "In such cases it makes sense to use a detector, as in part 1, for the recognition. This has the advantage that we could train the recognizer of each digit class to output a \"1\" (or a value close to it) when it recognizes its digit, or a \"0\" (or a\n",
    "value close to it) when it is not recognizing its digit. If no digit is present, all detectors will output values close to 0,\n",
    "which is something that the classifier cannot do.\n",
    "\n",
    "For that we use the same neural network structure as in part 3 for the MNIST classifier, but with a different Loss function. Instead of the CrossEntropyLoss(), we take the MSELoss(). But the MSELoss expects a different target representation. \n",
    "\n",
    "For the CrossEntropyLoss, we need the class label (number) as the target, which means we have one integer (or float) input digit. The MSELoss expects a float number for each class, which means 10 float numbers for each input digit, where the correct class should have a \"1\", and all other classes should have a \"0\".\n",
    "\n",
    "Since the MNSIT data set is made for classification, we need to convert its target to classes. We can do that by initializing a torch array with zeros, and then set it to \"1\" at the corresponding \"correct\" classes. This is also called a \"**one-hot**\" representation."
   ]
  },
  {
   "cell_type": "code",
   "execution_count": 13,
   "metadata": {
    "hide_input": true
   },
   "outputs": [
    {
     "data": {
      "text/html": [
       "<iframe width=\"560\" height=\"315\" src=\"https://www.youtube.com/embed/3W4c5IEKilc?rel=0\" frameborder=\"0\" allow=\"accelerometer; encrypted-media; gyroscope; picture-in-picture\" allowfullscreen></iframe>\n"
      ],
      "text/plain": [
       "<IPython.core.display.HTML object>"
      ]
     },
     "metadata": {},
     "output_type": "display_data"
    }
   ],
   "source": [
    "%%html\n",
    "<iframe width=\"560\" height=\"315\" src=\"https://www.youtube.com/embed/3W4c5IEKilc?rel=0\" frameborder=\"0\" allow=\"accelerometer; encrypted-media; gyroscope; picture-in-picture\" allowfullscreen></iframe>"
   ]
  },
  {
   "cell_type": "code",
   "execution_count": 1,
   "metadata": {
    "hide_input": true,
    "slideshow": {
     "slide_type": "-"
    }
   },
   "outputs": [
    {
     "data": {
      "text/html": [
       "<iframe src=\"https://pytorch.org/docs/stable/nn.functional.html#one-hot\" width=\"900\" height=\"600\"></iframe>\n"
      ],
      "text/plain": [
       "<IPython.core.display.HTML object>"
      ]
     },
     "metadata": {},
     "output_type": "display_data"
    }
   ],
   "source": [
    "%%html\n",
    "<iframe src=\"https://pytorch.org/docs/stable/nn.functional.html#one-hot\" width=\"900\" height=\"600\"></iframe>"
   ]
  },
  {
   "cell_type": "code",
   "execution_count": 14,
   "metadata": {
    "hide_input": true
   },
   "outputs": [
    {
     "data": {
      "text/html": [
       "<iframe width=\"560\" height=\"315\" src=\"https://www.youtube.com/embed/7wKKVnxR2Vs?rel=0\" frameborder=\"0\" allow=\"accelerometer; encrypted-media; gyroscope; picture-in-picture\" allowfullscreen></iframe>\n"
      ],
      "text/plain": [
       "<IPython.core.display.HTML object>"
      ]
     },
     "metadata": {},
     "output_type": "display_data"
    }
   ],
   "source": [
    "%%html\n",
    "<iframe width=\"560\" height=\"315\" src=\"https://www.youtube.com/embed/7wKKVnxR2Vs?rel=0\" frameborder=\"0\" allow=\"accelerometer; encrypted-media; gyroscope; picture-in-picture\" allowfullscreen></iframe>"
   ]
  },
  {
   "cell_type": "code",
   "execution_count": 2,
   "metadata": {
    "slideshow": {
     "slide_type": "-"
    }
   },
   "outputs": [],
   "source": [
    "#from: https://machinelearningmastery.com/handwritten-digit-recognition-using-convolutional-neural-networks-python-keras/\n",
    "#https://pytorch.org/docs/stable/torchvision/datasets.html#mnist\n",
    "#Translated to PyTorch and modified to a simple fully connected network,\n",
    "#by Gerald Schuller, October 2019\n",
    "\n",
    "# Ported and modified to Jupyter Notebook by Renato Profeta, August 2020\n",
    "\n",
    "import numpy\n",
    "import matplotlib.pyplot as plt\n",
    "import torch\n",
    "import torchvision\n",
    "import torch.nn.functional as F\n",
    "import torch.nn as nn\n",
    "import time\n",
    "\n",
    "device='cpu'\n",
    "#device='cuda'"
   ]
  },
  {
   "cell_type": "code",
   "execution_count": 3,
   "metadata": {
    "slideshow": {
     "slide_type": "-"
    }
   },
   "outputs": [],
   "source": [
    "# define the neural network model\n",
    "class DenseNet(nn.Module):\n",
    "    def __init__(self):\n",
    "        super(DenseNet, self).__init__()\n",
    "        self.layer1=nn.Sequential(nn.Linear(in_features=num_pixels, out_features=num_pixels))\n",
    "        self.layer2=nn.Sequential(nn.Linear(in_features=num_pixels, out_features=num_classes))\n",
    "      \n",
    "   \n",
    "    def forward(self, x):\n",
    "        x = F.relu(self.layer1(x))  #First layer with activation function\n",
    "        x = self.layer2(x)   #Second layer\n",
    "        #x = torch.nn.Softmax(x)\n",
    "        return x"
   ]
  },
  {
   "cell_type": "code",
   "execution_count": 4,
   "metadata": {
    "slideshow": {
     "slide_type": "-"
    }
   },
   "outputs": [],
   "source": [
    "batch_size_train = 100\n",
    "batch_size_test = 10\n",
    "num_classes = 10  #10 classes according to the 10 possible digits 0,...,9\n",
    "\n",
    "train_loader = torch.utils.data.DataLoader(\n",
    "    torchvision.datasets.MNIST('~/Downloads/MNISTfiles/', \n",
    "    train=True, download=True,\n",
    "    transform=torchvision.transforms.Compose([\n",
    "    torchvision.transforms.ToTensor(),\n",
    "    torchvision.transforms.Normalize((0.1307,), (0.3081,))])),\n",
    "    batch_size=batch_size_train, shuffle=True)\n",
    "#the Normalize() arguments are mean and standard deviation.\n",
    "\n",
    "test_loader = torch.utils.data.DataLoader(\n",
    "    torchvision.datasets.MNIST('~/Downloads/MNISTfiles/', \n",
    "    train=False, download=True,\n",
    "    transform=torchvision.transforms.Compose([\n",
    "    torchvision.transforms.ToTensor(),\n",
    "    torchvision.transforms.Normalize((0.1307,), (0.3081,))])),\n",
    "    batch_size=batch_size_test, shuffle=True)"
   ]
  },
  {
   "cell_type": "markdown",
   "metadata": {
    "slideshow": {
     "slide_type": "-"
    }
   },
   "source": [
    "In the beginning it prints the one-hot vector y_train_onehot, where we can see that each row contains the values for the 10 classes, and indeed only one entry is \"1\", the others are \"0\"."
   ]
  },
  {
   "cell_type": "code",
   "execution_count": 5,
   "metadata": {
    "scrolled": false,
    "slideshow": {
     "slide_type": "-"
    }
   },
   "outputs": [
    {
     "name": "stdout",
     "output_type": "stream",
     "text": [
      "X_train.type()= torch.FloatTensor y_train.type()= torch.LongTensor\n",
      "batch_idx= 0 X_train.shape= torch.Size([100, 1, 28, 28]) y_train.shape= torch.Size([100]) y_train= tensor([9, 1, 0, 1, 1, 3, 2, 2, 1, 6, 6, 0, 1, 6, 7, 7, 8, 5, 3, 2, 1, 3, 9, 2,\n",
      "        8, 1, 3, 1, 8, 2, 4, 2, 1, 1, 3, 3, 6, 4, 6, 9, 8, 2, 4, 1, 9, 6, 8, 8,\n",
      "        9, 7, 4, 8, 4, 3, 6, 9, 4, 8, 9, 8, 6, 8, 1, 5, 6, 9, 9, 9, 3, 6, 0, 7,\n",
      "        2, 9, 6, 7, 8, 5, 0, 6, 4, 5, 6, 0, 0, 7, 9, 5, 7, 1, 0, 0, 9, 8, 6, 3,\n",
      "        1, 1, 2, 4])\n",
      "y_train_onehot= tensor([[0., 0., 0., 0., 0., 0., 0., 0., 0., 1.],\n",
      "        [0., 1., 0., 0., 0., 0., 0., 0., 0., 0.],\n",
      "        [1., 0., 0., 0., 0., 0., 0., 0., 0., 0.],\n",
      "        [0., 1., 0., 0., 0., 0., 0., 0., 0., 0.],\n",
      "        [0., 1., 0., 0., 0., 0., 0., 0., 0., 0.],\n",
      "        [0., 0., 0., 1., 0., 0., 0., 0., 0., 0.],\n",
      "        [0., 0., 1., 0., 0., 0., 0., 0., 0., 0.],\n",
      "        [0., 0., 1., 0., 0., 0., 0., 0., 0., 0.],\n",
      "        [0., 1., 0., 0., 0., 0., 0., 0., 0., 0.],\n",
      "        [0., 0., 0., 0., 0., 0., 1., 0., 0., 0.],\n",
      "        [0., 0., 0., 0., 0., 0., 1., 0., 0., 0.],\n",
      "        [1., 0., 0., 0., 0., 0., 0., 0., 0., 0.],\n",
      "        [0., 1., 0., 0., 0., 0., 0., 0., 0., 0.],\n",
      "        [0., 0., 0., 0., 0., 0., 1., 0., 0., 0.],\n",
      "        [0., 0., 0., 0., 0., 0., 0., 1., 0., 0.],\n",
      "        [0., 0., 0., 0., 0., 0., 0., 1., 0., 0.],\n",
      "        [0., 0., 0., 0., 0., 0., 0., 0., 1., 0.],\n",
      "        [0., 0., 0., 0., 0., 1., 0., 0., 0., 0.],\n",
      "        [0., 0., 0., 1., 0., 0., 0., 0., 0., 0.],\n",
      "        [0., 0., 1., 0., 0., 0., 0., 0., 0., 0.],\n",
      "        [0., 1., 0., 0., 0., 0., 0., 0., 0., 0.],\n",
      "        [0., 0., 0., 1., 0., 0., 0., 0., 0., 0.],\n",
      "        [0., 0., 0., 0., 0., 0., 0., 0., 0., 1.],\n",
      "        [0., 0., 1., 0., 0., 0., 0., 0., 0., 0.],\n",
      "        [0., 0., 0., 0., 0., 0., 0., 0., 1., 0.],\n",
      "        [0., 1., 0., 0., 0., 0., 0., 0., 0., 0.],\n",
      "        [0., 0., 0., 1., 0., 0., 0., 0., 0., 0.],\n",
      "        [0., 1., 0., 0., 0., 0., 0., 0., 0., 0.],\n",
      "        [0., 0., 0., 0., 0., 0., 0., 0., 1., 0.],\n",
      "        [0., 0., 1., 0., 0., 0., 0., 0., 0., 0.],\n",
      "        [0., 0., 0., 0., 1., 0., 0., 0., 0., 0.],\n",
      "        [0., 0., 1., 0., 0., 0., 0., 0., 0., 0.],\n",
      "        [0., 1., 0., 0., 0., 0., 0., 0., 0., 0.],\n",
      "        [0., 1., 0., 0., 0., 0., 0., 0., 0., 0.],\n",
      "        [0., 0., 0., 1., 0., 0., 0., 0., 0., 0.],\n",
      "        [0., 0., 0., 1., 0., 0., 0., 0., 0., 0.],\n",
      "        [0., 0., 0., 0., 0., 0., 1., 0., 0., 0.],\n",
      "        [0., 0., 0., 0., 1., 0., 0., 0., 0., 0.],\n",
      "        [0., 0., 0., 0., 0., 0., 1., 0., 0., 0.],\n",
      "        [0., 0., 0., 0., 0., 0., 0., 0., 0., 1.],\n",
      "        [0., 0., 0., 0., 0., 0., 0., 0., 1., 0.],\n",
      "        [0., 0., 1., 0., 0., 0., 0., 0., 0., 0.],\n",
      "        [0., 0., 0., 0., 1., 0., 0., 0., 0., 0.],\n",
      "        [0., 1., 0., 0., 0., 0., 0., 0., 0., 0.],\n",
      "        [0., 0., 0., 0., 0., 0., 0., 0., 0., 1.],\n",
      "        [0., 0., 0., 0., 0., 0., 1., 0., 0., 0.],\n",
      "        [0., 0., 0., 0., 0., 0., 0., 0., 1., 0.],\n",
      "        [0., 0., 0., 0., 0., 0., 0., 0., 1., 0.],\n",
      "        [0., 0., 0., 0., 0., 0., 0., 0., 0., 1.],\n",
      "        [0., 0., 0., 0., 0., 0., 0., 1., 0., 0.],\n",
      "        [0., 0., 0., 0., 1., 0., 0., 0., 0., 0.],\n",
      "        [0., 0., 0., 0., 0., 0., 0., 0., 1., 0.],\n",
      "        [0., 0., 0., 0., 1., 0., 0., 0., 0., 0.],\n",
      "        [0., 0., 0., 1., 0., 0., 0., 0., 0., 0.],\n",
      "        [0., 0., 0., 0., 0., 0., 1., 0., 0., 0.],\n",
      "        [0., 0., 0., 0., 0., 0., 0., 0., 0., 1.],\n",
      "        [0., 0., 0., 0., 1., 0., 0., 0., 0., 0.],\n",
      "        [0., 0., 0., 0., 0., 0., 0., 0., 1., 0.],\n",
      "        [0., 0., 0., 0., 0., 0., 0., 0., 0., 1.],\n",
      "        [0., 0., 0., 0., 0., 0., 0., 0., 1., 0.],\n",
      "        [0., 0., 0., 0., 0., 0., 1., 0., 0., 0.],\n",
      "        [0., 0., 0., 0., 0., 0., 0., 0., 1., 0.],\n",
      "        [0., 1., 0., 0., 0., 0., 0., 0., 0., 0.],\n",
      "        [0., 0., 0., 0., 0., 1., 0., 0., 0., 0.],\n",
      "        [0., 0., 0., 0., 0., 0., 1., 0., 0., 0.],\n",
      "        [0., 0., 0., 0., 0., 0., 0., 0., 0., 1.],\n",
      "        [0., 0., 0., 0., 0., 0., 0., 0., 0., 1.],\n",
      "        [0., 0., 0., 0., 0., 0., 0., 0., 0., 1.],\n",
      "        [0., 0., 0., 1., 0., 0., 0., 0., 0., 0.],\n",
      "        [0., 0., 0., 0., 0., 0., 1., 0., 0., 0.],\n",
      "        [1., 0., 0., 0., 0., 0., 0., 0., 0., 0.],\n",
      "        [0., 0., 0., 0., 0., 0., 0., 1., 0., 0.],\n",
      "        [0., 0., 1., 0., 0., 0., 0., 0., 0., 0.],\n",
      "        [0., 0., 0., 0., 0., 0., 0., 0., 0., 1.],\n",
      "        [0., 0., 0., 0., 0., 0., 1., 0., 0., 0.],\n",
      "        [0., 0., 0., 0., 0., 0., 0., 1., 0., 0.],\n",
      "        [0., 0., 0., 0., 0., 0., 0., 0., 1., 0.],\n",
      "        [0., 0., 0., 0., 0., 1., 0., 0., 0., 0.],\n",
      "        [1., 0., 0., 0., 0., 0., 0., 0., 0., 0.],\n",
      "        [0., 0., 0., 0., 0., 0., 1., 0., 0., 0.],\n",
      "        [0., 0., 0., 0., 1., 0., 0., 0., 0., 0.],\n",
      "        [0., 0., 0., 0., 0., 1., 0., 0., 0., 0.],\n",
      "        [0., 0., 0., 0., 0., 0., 1., 0., 0., 0.],\n",
      "        [1., 0., 0., 0., 0., 0., 0., 0., 0., 0.],\n",
      "        [1., 0., 0., 0., 0., 0., 0., 0., 0., 0.],\n",
      "        [0., 0., 0., 0., 0., 0., 0., 1., 0., 0.],\n",
      "        [0., 0., 0., 0., 0., 0., 0., 0., 0., 1.],\n",
      "        [0., 0., 0., 0., 0., 1., 0., 0., 0., 0.],\n",
      "        [0., 0., 0., 0., 0., 0., 0., 1., 0., 0.],\n",
      "        [0., 1., 0., 0., 0., 0., 0., 0., 0., 0.],\n",
      "        [1., 0., 0., 0., 0., 0., 0., 0., 0., 0.],\n",
      "        [1., 0., 0., 0., 0., 0., 0., 0., 0., 0.],\n",
      "        [0., 0., 0., 0., 0., 0., 0., 0., 0., 1.],\n",
      "        [0., 0., 0., 0., 0., 0., 0., 0., 1., 0.],\n",
      "        [0., 0., 0., 0., 0., 0., 1., 0., 0., 0.],\n",
      "        [0., 0., 0., 1., 0., 0., 0., 0., 0., 0.],\n",
      "        [0., 1., 0., 0., 0., 0., 0., 0., 0., 0.],\n",
      "        [0., 1., 0., 0., 0., 0., 0., 0., 0., 0.],\n",
      "        [0., 0., 1., 0., 0., 0., 0., 0., 0., 0.],\n",
      "        [0., 0., 0., 0., 1., 0., 0., 0., 0., 0.]])\n"
     ]
    }
   ],
   "source": [
    "examples = enumerate(train_loader)\n",
    "# Plot ad hoc mnist instances\n",
    "\n",
    "# load (downloaded if needed) the MNIST dataset\n",
    "#(X_train, y_train), (X_test, y_test) = mnist.load_data()\n",
    "#one trainig batch of 100 images:\n",
    "batch_idx, (X_train, y_train) = next(examples)\n",
    "print( \"X_train.type()=\",X_train.type(), \"y_train.type()=\",y_train.type())\n",
    "print(\"batch_idx=\", batch_idx, \"X_train.shape=\", X_train.shape, \"y_train.shape=\", y_train.shape, \"y_train=\", y_train)\n",
    "\n",
    "#Make classes with one-hot encoding from the target classes:\n",
    "#y_train_onehot=torch.zeros(batch_size_train,num_classes)\n",
    "#for spl in range(batch_size_train):\n",
    "    #y_train_onehot[spl, y_train[spl]]=1.0\n",
    "y_train_onehot=torch.nn.functional.one_hot(y_train).type(torch.FloatTensor)\n",
    "print(\"y_train_onehot=\", y_train_onehot)"
   ]
  },
  {
   "cell_type": "code",
   "execution_count": 6,
   "metadata": {
    "slideshow": {
     "slide_type": "-"
    }
   },
   "outputs": [
    {
     "data": {
      "image/png": "[encoded data removed]",
      "text/plain": [
       "<Figure size 720x576 with 4 Axes>"
      ]
     },
     "metadata": {
      "needs_background": "light"
     },
     "output_type": "display_data"
    }
   ],
   "source": [
    "examples = enumerate(test_loader)\n",
    "#one test batch of batch_size_test images:\n",
    "batch_idx, (X_test, y_test) = next(examples)\n",
    "#Make classes with one-hot encoding from the target classes:\n",
    "y_test_onehot=torch.zeros(batch_size_test,num_classes)\n",
    "for spl in range(batch_size_test):\n",
    "    y_test_onehot[spl, y_test[spl]]=1.0\n",
    "\n",
    "# plot 4 images as gray scale\n",
    "plt.figure(figsize=(10,8))\n",
    "plt.subplot(221)\n",
    "plt.title(\"Some Images of the Trainigs Set\")\n",
    "plt.imshow(X_train[0,0], cmap=plt.get_cmap('gray'))\n",
    "plt.subplot(222)\n",
    "plt.imshow(X_train[1,0], cmap=plt.get_cmap('gray'))\n",
    "plt.subplot(223)\n",
    "plt.imshow(X_train[2,0], cmap=plt.get_cmap('gray'))\n",
    "plt.subplot(224)\n",
    "plt.imshow(X_train[3,0], cmap=plt.get_cmap('gray'))\n",
    "# show the plot\n",
    "plt.show()"
   ]
  },
  {
   "cell_type": "code",
   "execution_count": 7,
   "metadata": {
    "slideshow": {
     "slide_type": "-"
    }
   },
   "outputs": [
    {
     "name": "stdout",
     "output_type": "stream",
     "text": [
      "X_train.shape= torch.Size([100, 784])\n",
      "X_test.shape= torch.Size([10, 784])\n"
     ]
    }
   ],
   "source": [
    "X_testunflat=X_test.clone() #keep original for imshow later\n",
    "# flatten 28*28 images to a 784 vector for each image\n",
    "num_pixels = X_train.shape[2] * X_train.shape[3]\n",
    "\n",
    "\n",
    "#Flatten the images:\n",
    "X_train = X_train.view(X_train.shape[0], num_pixels)\n",
    "print(\"X_train.shape=\",X_train.shape)\n",
    "X_test = X_test.reshape(X_test.shape[0], num_pixels)\n",
    "print(\"X_test.shape=\",X_test.shape)\n",
    "\n",
    "# normalize inputs from 0-255 to 0-1\n",
    "#X_train = X_train / 255\n",
    "#X_test = X_test / 255\n",
    "\n",
    "# one hot encode outputs\n",
    "#y_train = np_utils.to_categorical(y_train)\n",
    "#y_test = np_utils.to_categorical(y_test)"
   ]
  },
  {
   "cell_type": "code",
   "execution_count": 8,
   "metadata": {
    "slideshow": {
     "slide_type": "-"
    }
   },
   "outputs": [
    {
     "name": "stdout",
     "output_type": "stream",
     "text": [
      "Generate Model:\n"
     ]
    }
   ],
   "source": [
    "# build the model\n",
    "print(\"Generate Model:\")\n",
    "model = DenseNet()#.to('cpu')\n",
    "    \n",
    "loss_fn = nn.MSELoss()\n",
    "#learning_rate = 1e-4\n",
    "optimizer = torch.optim.Adam(model.parameters())#, lr=learning_rate)"
   ]
  },
  {
   "cell_type": "markdown",
   "metadata": {
    "slideshow": {
     "slide_type": "-"
    }
   },
   "source": [
    "It trains the network on the MSELoss, using just 10 iterations."
   ]
  },
  {
   "cell_type": "code",
   "execution_count": 9,
   "metadata": {
    "slideshow": {
     "slide_type": "-"
    }
   },
   "outputs": [
    {
     "name": "stdout",
     "output_type": "stream",
     "text": [
      "0 0.1498100459575653\n",
      "2 0.09042678028345108\n",
      "4 0.12411704659461975\n",
      "6 0.06358765810728073\n",
      "8 0.022911611944437027\n",
      "Duration of optimization: 0.12865567207336426\n"
     ]
    }
   ],
   "source": [
    "# Fit the model\n",
    "X_train=X_train.to(device)\n",
    "y_train_onehot=y_train_onehot.to(device)\n",
    "starttime=time.time()\n",
    "for epoch in range(10):\n",
    "    Ypred=model(X_train)\n",
    "    loss=loss_fn(Ypred, y_train_onehot)\n",
    "    if epoch%2==0:\n",
    "        print(epoch, loss.item())\n",
    "    optimizer.zero_grad()\n",
    "    loss.backward()\n",
    "    optimizer.step()\n",
    "       \n",
    "endtime=time.time()\n",
    "print(\"Duration of optimization:\", endtime-starttime)\n",
    "#model.fit(X_train, y_train, validation_data=(X_test, y_test), epochs=2, batch_size=200, verbose=2)"
   ]
  },
  {
   "cell_type": "code",
   "execution_count": 10,
   "metadata": {
    "slideshow": {
     "slide_type": "-"
    }
   },
   "outputs": [
    {
     "name": "stdout",
     "output_type": "stream",
     "text": [
      "Loss on the test set: tensor(0.0603, grad_fn=<MseLossBackward>)\n"
     ]
    }
   ],
   "source": [
    "# Final evaluation of the model\n",
    "Ypred=model(X_test)\n",
    "loss=loss_fn(Ypred, y_test_onehot)\n",
    "#scores = model.forward(X_test, y_test, verbose=0)\n",
    "print(\"Loss on the test set:\", loss)"
   ]
  },
  {
   "cell_type": "markdown",
   "metadata": {
    "slideshow": {
     "slide_type": "-"
    }
   },
   "source": [
    "After that it displays a test image of a digit, prints the values of the 10 classes from the neural network. Observe those numbers. Do they show a confident detection? Then it displays the number of the class with the highest value. If this highest value is below 0.4, the it is flagged as “probably not a digit”."
   ]
  },
  {
   "cell_type": "code",
   "execution_count": 11,
   "metadata": {
    "slideshow": {
     "slide_type": "-"
    }
   },
   "outputs": [
    {
     "name": "stdout",
     "output_type": "stream",
     "text": [
      "Picture  0\n",
      "X_testorig.shape= torch.Size([28, 28])\n",
      "sample.shape= torch.Size([784])\n",
      "Test Ypred= tensor([ 0.0233,  0.1547, -0.0467,  0.0799,  0.2158,  0.1013,  0.3038, -0.0160,\n",
      "         0.2188,  0.2137], grad_fn=<AddBackward0>)\n",
      "prediction= tensor(6)\n",
      "Probably not a digit\n"
     ]
    },
    {
     "data": {
      "image/png": "[encoded data removed]",
      "text/plain": [
       "<Figure size 432x288 with 1 Axes>"
      ]
     },
     "metadata": {
      "needs_background": "light"
     },
     "output_type": "display_data"
    },
    {
     "name": "stdout",
     "output_type": "stream",
     "text": [
      "Picture  1\n",
      "X_testorig.shape= torch.Size([28, 28])\n",
      "sample.shape= torch.Size([784])\n",
      "Test Ypred= tensor([ 0.5608, -0.1397,  0.1339,  0.1205, -0.4723,  0.2635, -0.4472,  0.1408,\n",
      "         0.1972,  0.0358], grad_fn=<AddBackward0>)\n",
      "prediction= tensor(0)\n"
     ]
    },
    {
     "data": {
      "image/png": "[encoded data removed]",
      "text/plain": [
       "<Figure size 432x288 with 1 Axes>"
      ]
     },
     "metadata": {
      "needs_background": "light"
     },
     "output_type": "display_data"
    }
   ],
   "source": [
    "#\"Inference\", predict example digit test image:\n",
    "for pic in range(2):\n",
    "    print(\"Picture \", pic)\n",
    "    if pic==0: #take image from test set:\n",
    "        X_testorig=X_testunflat[1,0]\n",
    "        sample=X_test[1,:]\n",
    "    if pic==1: #read externa random test image, size 28x28 pixel:\n",
    "        from PIL import Image\n",
    "        image = Image.open('./images/randpic.jpg')\n",
    "        import torchvision.transforms.functional as TF\n",
    "        X_testorig = TF.to_tensor(image) \n",
    "        X_testorig = X_testorig[0,:,:]\n",
    "        sample=X_testorig.view(28*28)\n",
    "      \n",
    "    print(\"X_testorig.shape=\",X_testorig.shape)\n",
    "    plt.imshow(X_testorig, cmap=plt.get_cmap('gray'))\n",
    "    plt.title(\"A Digit Image to Regognize as a Test (predicted digit in the shell)\")\n",
    "\n",
    "    #sample=\n",
    "    print(\"sample.shape=\", sample.shape)\n",
    "    Ypred=model(sample)\n",
    "    print(\"Test Ypred=\", Ypred)\n",
    "    prediction=torch.argmax(Ypred) #use argmax as the class with the largest output\n",
    "    print(\"prediction=\", prediction)\n",
    "    #Now we have the possibility to detect the case \"probably not a digit\" if the max output is too low,\n",
    "    #since we know from the target function that perfect detection means \"1.0\" and \n",
    "    #perfect non-detection is \"0.0\",\n",
    "    #by choosing some threshold:\n",
    "    if Ypred[prediction] <0.4 : #not confident\n",
    "        print(\"Probably not a digit\")\n",
    "    plt.show()"
   ]
  },
  {
   "cell_type": "markdown",
   "metadata": {
    "hide_input": false,
    "slideshow": {
     "slide_type": "-"
    }
   },
   "source": [
    "It takes the image of random pixels as input, clearly not showing a digit. It still shows the digit with the maximum value, but it should also show \"Probably not a digit\"."
   ]
  }
 ],
 "metadata": {
  "kernelspec": {
   "display_name": "Python 3",
   "language": "python",
   "name": "python3"
  },
  "language_info": {
   "codemirror_mode": {
    "name": "ipython",
    "version": 3
   },
   "file_extension": ".py",
   "mimetype": "text/x-python",
   "name": "python",
   "nbconvert_exporter": "python",
   "pygments_lexer": "ipython3",
   "version": "3.7.8"
  }
 },
 "nbformat": 4,
 "nbformat_minor": 2
}

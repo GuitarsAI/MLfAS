{
 "cells": [
  {
   "cell_type": "markdown",
   "metadata": {
    "slideshow": {
     "slide_type": "slide"
    }
   },
   "source": [
    "<center>\n",
    "    <img src=\"./images/mlfasp.png\">\n",
    "</center>\n",
    "\n",
    "#### Prof. Dr. -Ing. Gerald Schuller <br> Jupyter Notebook: Renato Profeta\n",
    "\n",
    "[Applied Media Systems Group](https://www.tu-ilmenau.de/en/applied-media-systems-group/) <br>\n",
    "[Technische Universität Ilmenau](https://www.tu-ilmenau.de/)"
   ]
  },
  {
   "cell_type": "markdown",
   "metadata": {
    "hide_input": true,
    "slideshow": {
     "slide_type": "-"
    }
   },
   "source": [
    "# Neural Network as Function Approximator, Regression"
   ]
  },
  {
   "cell_type": "code",
   "execution_count": 16,
   "metadata": {
    "hide_input": true
   },
   "outputs": [
    {
     "data": {
      "text/html": [
       "<iframe width=\"560\" height=\"315\" src=\"https://www.youtube.com/embed/eg6nZJz05eA?rel=0\" frameborder=\"0\" allow=\"accelerometer; encrypted-media; gyroscope; picture-in-picture\" allowfullscreen></iframe>\n"
      ],
      "text/plain": [
       "<IPython.core.display.HTML object>"
      ]
     },
     "metadata": {},
     "output_type": "display_data"
    }
   ],
   "source": [
    "%%html\n",
    "<iframe width=\"560\" height=\"315\" src=\"https://www.youtube.com/embed/eg6nZJz05eA?rel=0\" frameborder=\"0\" allow=\"accelerometer; encrypted-media; gyroscope; picture-in-picture\" allowfullscreen></iframe>"
   ]
  },
  {
   "cell_type": "markdown",
   "metadata": {},
   "source": [
    "We can use a neural network to approximate a function:\n",
    "$$\\large\n",
    "y=f(x)$$\n",
    "\n",
    "In our simple example *x* is a (1-dimensional) sample, and *y* is the (also 1-dimensional) target (also called regression).\n",
    "\n",
    "This function could be, for instance, an audio signal like a tone, which would be a sinusoidal function. Here, *x* would be the time dimension, and *y* would a sample from or to the sound card.\n",
    "\n",
    "In Pytorch we have a `torch.sin()` function, which directly produces a torch tensor, and also a `torch.randn()` function, which produces random numbers according to a gaussian distribution with zero mean and unit variance. We can use this to simulate microphone and pickup noise.\n",
    "\n",
    "We generate our target function with:\n",
    "\n",
    "```python\n",
    "N=40 #number of samples in our signal\n",
    "#Training set:\n",
    "#The x input here is the time:\n",
    "X=torch.arange(0,N,1.0) #generates N time steps for X\n",
    "X=X.view(N,1) #adding the last dimension for the signal (1 sample each),\n",
    "#first dimension for the batch of size N\n",
    "Y=torch.sin(X*3.14/N*2)+torch.randn(X.shape)*0.1\n",
    "#2 periods of the sinusoid in our training set, plus noise```\n",
    "\n",
    "Often we want our network to interpolate the function between the training samples, and also to extrapolate beyond the training samples. Hence we construct a validation set which has the *X* samples between the integer values of the training set, and extend it to beyond the length of the training set. To see how robust our network is against the noise in the training set, we also add new noise.\n",
    "\n",
    "```python\n",
    "#Validation set, to test generalization, with new noise:\n",
    "Xval=torch.arange(0.5,2*N,1.0) #generates 2N time steps for X for extrapolation beyond N,\n",
    "#shifted by 0.5 compared to training set,\n",
    "#for interpolation between the original sample points.\n",
    "#print(\"Xval=\", Xval)\n",
    "Xval=Xval.view(2*N,1)\n",
    "#Validation Target:\n",
    "Yval=torch.sin(Xval*3.14/N*2)+torch.randn(Xval.shape)*0.1```\n",
    "\n",
    "Now we have to decide what kind of network to use. We try to find one which is as simple as possible for the task. We choose a structure which is in principle able to approximate the function piece-wise. We use a number of nodes in the network, and each node is in effect \"responsible\" for a piece of the function. We can do this with a 3-layer fully connected network with activation function (see also:"
   ]
  },
  {
   "cell_type": "code",
   "execution_count": 1,
   "metadata": {
    "hide_input": true,
    "slideshow": {
     "slide_type": "-"
    }
   },
   "outputs": [
    {
     "data": {
      "text/html": [
       "<iframe src=\"http://deeplearning.stanford.edu/tutorial/supervised/MultiLayerNeuralNetworks\" width=\"900\" height=\"600\"></iframe>\n"
      ],
      "text/plain": [
       "<IPython.core.display.HTML object>"
      ]
     },
     "metadata": {},
     "output_type": "display_data"
    }
   ],
   "source": [
    "%%html\n",
    "<iframe src=\"http://deeplearning.stanford.edu/tutorial/supervised/MultiLayerNeuralNetworks\" width=\"900\" height=\"600\"></iframe>"
   ]
  },
  {
   "cell_type": "markdown",
   "metadata": {
    "hide_input": false,
    "slideshow": {
     "slide_type": "-"
    }
   },
   "source": [
    "The first layer is the **input layer**, which takes 1 input sample of *X*, then distributes this sample to N **\"hidden\" nodes**, with weights, each node then has a bias which basically \"activates\" it for certain value ranges of *X*, and the activation function, for instance the Sigmoid function, which is mainly \"active\" in the input range of -4 to 4, followed by weights to the **output layer**, which in our case is simply one node which sums up all the inputs from the hidden nodes, with weights but with no activation function.\n",
    "\n",
    "This can be seen in the following picture:\n",
    "<figure>\n",
    "<img src='./images/02_01_neuralNetsAppro.png' width='600'>\n",
    "<figcaption>Figure: Our neural network for function approximation.</figcaption>\n",
    "</figure>\n",
    "\n",
    "We define our 3-layer neural network with the following class in Pytorch:\n",
    "\n",
    "```python\n",
    "Nodes=10 #This results in a smooth interpolation\n",
    "#Nodes=80 #this can result in over-fitting\n",
    "\n",
    "#A 2-layer fully connected network, 1 input (time value), \n",
    "#hidden layer has N nodes, 1 output (function value).\n",
    "\n",
    "class LinNet(nn.Module):\n",
    "    #define and initialize the layers:\n",
    "    def __init__(self):\n",
    "    super(LinNet, self).__init__()\n",
    "    # Define the model.\n",
    "    #https://pytorch.org/docs/stable/nn.html?highlight=linear#torch.nn.Linear\n",
    "    \n",
    "    # Generate a fully connected linear neural network model, \n",
    "    #2 layers, bias\n",
    "    # returns: Trainable object\n",
    "    self.layer1=nn.Sequential(nn.Linear(in_features=1,out_features=Nodes, bias=True))\n",
    "    self.layer2=nn.Sequential(nn.Linear(in_features=Nodes,out_features=1, bias=True))\n",
    "    \n",
    "    #self.act = nn.LeakyReLU() #non-linear activation function\n",
    "    #self.act = nn.ReLU() #non-linear activation function\n",
    "    #self.act = nn.Hardtanh() #non-linear activation function\n",
    "    self.act = nn.Sigmoid() #non-linear activation function\n",
    "    \n",
    "    #Putting the network together:\n",
    "    def forward(self, x):\n",
    "    out = self.layer1(x)\n",
    "    #print(\"out.shape=\", out.shape)\n",
    "    out = self.act(out) #comment out if not desired\n",
    "    #print(\"out.shape=\", out.shape)\n",
    "    out = self.layer2(out)\n",
    "    #print(\"out.shape=\", out.shape)\n",
    "    return out```"
   ]
  },
  {
   "cell_type": "markdown",
   "metadata": {
    "slideshow": {
     "slide_type": "-"
    }
   },
   "source": [
    "Then in the main section, we first generate the training and validation set, and we instantiate and initialize the model, which is initialized with random weight values:\n",
    "```python\n",
    "#input tensor, type torch tensor:\n",
    "#Indices: batch, additional dimensions, features or signal dimension. \n",
    "#Here: 1 batch, 3 samples, signal dimension 2:\n",
    "#Training set:\n",
    "#The x input here is the time:\n",
    "X=torch.arange(0,N,1.0) #generates N time steps for X\n",
    "X=X.view(N,1) #adding the last dimension for the signal (1sample each), first dimension for the batch\n",
    "print(\"X.shape\", X.shape)\n",
    "#Target here is the (noisy) function value, a sine function + normal distributed random values:\n",
    "#Y=torch.sin(X)+torch.empty(X.shape).normal_(std=0.5)\n",
    "Y=torch.sin(X*3.14/N*2)+torch.randn(X.shape)*0.1\n",
    "Y=Y.view(N,1)\n",
    "print(\"Y.shape\", Y.shape)\n",
    "\n",
    "#Validation set, to test generalization, with new noise:\n",
    "Xval=torch.arange(0,2*N,1.0) #generates 2N time steps for X\n",
    "Xval=Xval.view(2*N,1)\n",
    "#Validation Target:\n",
    "Yval=torch.sin(Xval*3.14/N*2)+torch.randn(Xval.shape)*0.1\n",
    "Yval=Yval.view(2*N,1)\n",
    "#create network object:\n",
    "model = LinNet().to(device)\n",
    "#Before training:\n",
    "Ypred=model(X) #the model produces prediction output\n",
    "print(\"Ypred.shape=\", Ypred.shape)\n",
    "weights = model.state_dict() #read obtained weights\n",
    "print(\"initial weights=\", weights) #see the random\n",
    "initialization of the weights```\n",
    "\n",
    "Then we define the loss function and execute the optimizer:\n",
    "\n",
    "```python\n",
    "print(\"Define loss function:\")\n",
    "loss_fn = nn.MSELoss() #mean squared error loss\n",
    "print(\"Define optimizer:\")\n",
    "#learning_rate = 1e-4\n",
    "optimizer = torch.optim.Adam(model.parameters())\n",
    "#optimizer = torch.optim.SGD(model.parameters(),lr=0.1)\n",
    "\n",
    "print(\"Optimizing:\")\n",
    "for epoch in range(10000):\n",
    "    Ypred=model(X) #the model produces prediction output\n",
    "    loss=loss_fn(Ypred, Y) #prediction and target compared by loss\n",
    "    if epoch%1000==0:\n",
    "        print(epoch, loss.item()) #print current loss value\n",
    "    optimizer.zero_grad() #optimizer sets previous gradients to zero\n",
    "    loss.backward() #optimizer computes new gradients\n",
    "    optimizer.step() #optimizer updates weights\n",
    "```\n",
    "\n",
    "Now we can compute the resulting loss value on the training set and validation set, and plot the obtained learned function in comparison to the (noisy) target function for training and validation."
   ]
  },
  {
   "cell_type": "markdown",
   "metadata": {
    "hide_input": false,
    "slideshow": {
     "slide_type": "-"
    }
   },
   "source": [
    "For plotting we need numpy arrays, hence we need to convert from pytorch tensors to numpy arrays, which we do with the function `.detach().numpy()`.\n",
    "\n",
    "```python\n",
    "Ypred=model(X) # Make Predictions based on the obtained weights\n",
    "#print(\"Ypred training set=\", Ypred)\n",
    "loss=loss_fn(Ypred, Y)\n",
    "print(\"Loss on trainig set:\", loss.detach().numpy())\n",
    "plt.plot(X.detach().numpy()[:,0],Y.detach().numpy()[:,0])\n",
    "plt.plot(X.detach().numpy()[:,0],Ypred.detach().numpy()[:,0])\n",
    "plt.legend(('Training Target', 'Prediction Output'))\n",
    "plt.xlabel('X- Input')\n",
    "plt.ylabel('Y-Output')\n",
    "plt.title('Training Result')\n",
    "plt.show()\n",
    "Yvalpred=model(Xval) # Make Predictions based on the obtained weights\n",
    "#print(\"Y validation set=\", Yvalpred.detach().numpy())\n",
    "loss=loss_fn(Yvalpred[:N,:], Yval[:N,:])\n",
    "print(\"Loss on validation set:\", loss.detach().numpy())\n",
    "plt.plot(Xval.detach().numpy()[:,0],Yval.detach().numpy()[:,0])\n",
    "plt.plot(Xval.detach().numpy()[:,0],Yvalpred.detach().numpy()[:,0])\n",
    "plt.xlabel('X- Input')\n",
    "plt.ylabel('Y-Output')\n",
    "plt.title('Generalization on Validation Set with Interpolation and Extrapolation')\n",
    "plt.legend(('Validation Target', 'Prediction Output'))\n",
    "plt.show()```"
   ]
  },
  {
   "cell_type": "code",
   "execution_count": 19,
   "metadata": {
    "hide_input": true
   },
   "outputs": [
    {
     "data": {
      "text/html": [
       "<iframe width=\"560\" height=\"315\" src=\"https://www.youtube.com/embed/idU5m3sNI28?rel=0\" frameborder=\"0\" allow=\"accelerometer; encrypted-media; gyroscope; picture-in-picture\" allowfullscreen></iframe>\n"
      ],
      "text/plain": [
       "<IPython.core.display.HTML object>"
      ]
     },
     "metadata": {},
     "output_type": "display_data"
    }
   ],
   "source": [
    "%%html\n",
    "<iframe width=\"560\" height=\"315\" src=\"https://www.youtube.com/embed/idU5m3sNI28?rel=0\" frameborder=\"0\" allow=\"accelerometer; encrypted-media; gyroscope; picture-in-picture\" allowfullscreen></iframe>"
   ]
  },
  {
   "cell_type": "code",
   "execution_count": 2,
   "metadata": {
    "slideshow": {
     "slide_type": "-"
    }
   },
   "outputs": [],
   "source": [
    "# -*- coding: utf-8 -*-\n",
    "__author__ = 'Gerald Schuller'\n",
    "__copyright__ = 'G.S.'\n",
    "\n",
    "\"\"\"\n",
    "Simple program to use a fully connected linear neural network layer as a 1-dimensional faunction y=f(x) approximator.\n",
    "This could be for instance an audio signal, x would be the time, y would be the audio signal value.\n",
    "Gerald Schuller, Dec. 2019.\n",
    "---------------------------------------------------------------------------------------------\n",
    "Ported to Jupyter Notebook by Renato Profeta, August, 2020\n",
    "\"\"\"\n",
    "\n",
    "import torch \n",
    "import torch.nn as nn\n",
    "import matplotlib.pyplot as plt\n",
    "\n",
    "device='cpu'\n",
    "#device='cuda'\n",
    "\n",
    "N=40 #number of samples in our signal\n",
    "Nodes=10 #Number of Nodes in the hidden layer. This results in a smooth interpolation\n",
    "#Nodes=80  #this can result in over-fitting\n",
    "\n",
    "#A 2-layer fully connected network, 1 input (time value), hidden layer has \"Nodes\" nodes, 1 output (function value).\n",
    "\n",
    "class LinNet(nn.Module):\n",
    "    #define and initialize the layers:\n",
    "    def __init__(self):\n",
    "        super(LinNet, self).__init__()\n",
    "        # Define the model. \n",
    "        #https://pytorch.org/docs/stable/nn.html?highlight=linear#torch.nn.Linear  \n",
    "        # Generate a fully connected linear neural network model, 2 layers, bias\n",
    "        # returns: Trainable object\n",
    "        self.layer1=nn.Sequential(nn.Linear(in_features=1, out_features=Nodes, bias=True))\n",
    "        self.layer2=nn.Sequential(nn.Linear(in_features=Nodes, out_features=1, bias=True))\n",
    "      \n",
    "        #self.act = nn.LeakyReLU() #non-linear activation function\n",
    "        #self.act = nn.ReLU() #non-linear activation function\n",
    "        #self.act = nn.Hardtanh() #non-linear activation function\n",
    "        self.act = nn.Sigmoid() #non-linear activation function\n",
    "      \n",
    "    #Putting the network together:\n",
    "    def forward(self, x):\n",
    "        out = self.layer1(x)\n",
    "        #print(\"out.shape=\", out.shape)\n",
    "        out = self.act(out)  #comment out if not desired\n",
    "        #print(\"out.shape=\", out.shape)\n",
    "        out = self.layer2(out)\n",
    "        #print(\"out.shape=\", out.shape)\n",
    "        return out"
   ]
  },
  {
   "cell_type": "code",
   "execution_count": 3,
   "metadata": {
    "hide_input": false,
    "scrolled": false,
    "slideshow": {
     "slide_type": "-"
    }
   },
   "outputs": [
    {
     "name": "stdout",
     "output_type": "stream",
     "text": [
      "Number of input samples: 40 number of nodes: 10\n",
      "X.shape torch.Size([40, 1])\n",
      "Y.shape torch.Size([40, 1])\n",
      "Ypred.shape= torch.Size([40, 1])\n",
      "initial weights= OrderedDict([('layer1.0.weight', tensor([[ 0.4357],\n",
      "        [ 0.7791],\n",
      "        [-0.4456],\n",
      "        [ 0.9313],\n",
      "        [-0.6877],\n",
      "        [ 0.5454],\n",
      "        [-0.3959],\n",
      "        [ 0.1250],\n",
      "        [ 0.3040],\n",
      "        [ 0.2709]])), ('layer1.0.bias', tensor([-0.5630, -0.6978, -0.2987,  0.7948, -0.2261, -0.3942,  0.6254, -0.6560,\n",
      "         0.5921,  0.4252])), ('layer2.0.weight', tensor([[-0.1172,  0.2365, -0.1195, -0.2363,  0.1819, -0.0191,  0.0920, -0.1297,\n",
      "         -0.2036, -0.1551]])), ('layer2.0.bias', tensor([-0.2262]))])\n",
      "Define loss function:\n",
      "Define optimizer:\n",
      "Optimizing:\n",
      "0 1.1084243059158325\n",
      "1000 0.122523233294487\n",
      "2000 0.062138717621564865\n",
      "3000 0.0500008650124073\n",
      "4000 0.045239225029945374\n",
      "5000 0.042137157171964645\n",
      "6000 0.03921492397785187\n",
      "7000 0.012872174382209778\n",
      "8000 0.010716227814555168\n",
      "9000 0.010322349146008492\n",
      "Loss on trainig set: 0.010162214\n",
      "Loss on validation set: 0.011946008\n"
     ]
    }
   ],
   "source": [
    "print(\"Number of input samples:\", N, \"number of nodes:\", Nodes)\n",
    "#input tensor, type torch tensor:\n",
    "#Indices: batch, additional dimensions, features or signal dimension. Here: 1 batch, 3 samples, signal dimension 2: \n",
    "#Training set:\n",
    "#The x input here is the time:\n",
    "X=torch.arange(0,N,1.0) #generates N time steps for X\n",
    "X=X.view(N,1) #adding the last dimension for the signal (1 sample each), first dimension for the batch of size N\n",
    "print(\"X.shape\", X.shape)\n",
    "#Target here is the (noisy) function value, a sine function + normal distributed random values:\n",
    "#Y=torch.sin(X)+torch.empty(X.shape).normal_(std=0.5)\n",
    "Y=torch.sin(X*3.14/N*2)+torch.randn(X.shape)*0.1\n",
    "#2 periods of the sinusoid in our training set, plus noise\n",
    "#Y=Y.view(N,1)\n",
    "print(\"Y.shape\", Y.shape)\n",
    "#Validation set, to test generalization, with new noise:\n",
    "Xval=torch.arange(0.5,2*N,1.0) #generates 2N time steps for X for extrapolation beyond N,\n",
    "#shifted by 0.5 compared to training set, \n",
    "#for interpolation between the original sample points.\n",
    "#print(\"Xval=\", Xval)\n",
    "Xval=Xval.view(2*N,1)\n",
    "#Validation Target:\n",
    "Yval=torch.sin(Xval*3.14/N*2)+torch.randn(Xval.shape)*0.1\n",
    "#Yval=Yval.view(2*N,1)\n",
    "   \n",
    "#create network object:\n",
    "model = LinNet().to(device)\n",
    "#Before training:\n",
    "Ypred=model(X) #the model produces prediction output\n",
    "print(\"Ypred.shape=\", Ypred.shape)\n",
    "weights = model.state_dict()   #read obtained weights\n",
    "print(\"initial weights=\", weights)  #see the random initialization of the weights \n",
    "   \n",
    "#print(\"model.parameters()=\", model.parameters()) \n",
    "   \n",
    "print(\"Define loss function:\")\n",
    "loss_fn = nn.MSELoss() #mean squared error loss\n",
    "   \n",
    "print(\"Define optimizer:\")\n",
    "#learning_rate = 1e-4\n",
    "optimizer = torch.optim.Adam(model.parameters())\n",
    "#optimizer = torch.optim.SGD(model.parameters(),lr=0.1)\n",
    "print(\"Optimizing:\")\n",
    "for epoch in range(10000):\n",
    "    Ypred=model(X) #the model produces prediction output\n",
    "    loss=loss_fn(Ypred, Y) #prediction and target compared by loss\n",
    "    if epoch%1000==0:\n",
    "        print(epoch, loss.item()) #print current loss value\n",
    "    optimizer.zero_grad() #optimizer sets previous gradients to zero\n",
    "    loss.backward() #optimizer computes new gradients\n",
    "    optimizer.step() #optimizer updates weights\n",
    "       \n",
    "Ypred=model(X) # Make Predictions based on the obtained weights \n",
    "#print(\"Ypred training set=\", Ypred) \n",
    "loss=loss_fn(Ypred, Y)\n",
    "print(\"Loss on trainig set:\", loss.detach().numpy())\n",
    "\n",
    "Yvalpred=model(Xval) # Make Predictions based on the obtained weights \n",
    "#print(\"Y validation set=\", Yvalpred.detach().numpy()) \n",
    "loss=loss_fn(Yvalpred[:N,:], Yval[:N,:])\n",
    "print(\"Loss on validation set:\", loss.detach().numpy())"
   ]
  },
  {
   "cell_type": "markdown",
   "metadata": {
    "slideshow": {
     "slide_type": "-"
    }
   },
   "source": [
    "Part of the printouts are the initial weights before the optimization. They are randomly initialized. They are obtained in the program with the lines:\n",
    "\n",
    "```python\n",
    "weights = model.state_dict() #read obtained weights\n",
    "print(\"initial weights=\", weights) #see the random initialization of the weights```\n",
    "\n",
    "It shows a dictionary of weights and biases. We get a printout like:"
   ]
  },
  {
   "cell_type": "code",
   "execution_count": 4,
   "metadata": {
    "slideshow": {
     "slide_type": "-"
    }
   },
   "outputs": [
    {
     "data": {
      "text/plain": [
       "OrderedDict([('layer1.0.weight',\n",
       "              tensor([[ 0.2415],\n",
       "                      [ 0.4047],\n",
       "                      [-0.1126],\n",
       "                      [ 1.2180],\n",
       "                      [-0.2518],\n",
       "                      [ 0.3115],\n",
       "                      [-0.2332],\n",
       "                      [ 0.2300],\n",
       "                      [ 0.0528],\n",
       "                      [ 0.0581]])),\n",
       "             ('layer1.0.bias',\n",
       "              tensor([-6.1918, -1.1939,  4.0242,  2.5634,  4.6787, -4.4766,  4.9360, -4.1202,\n",
       "                      -0.3480, -1.1558])),\n",
       "             ('layer2.0.weight',\n",
       "              tensor([[-0.6395,  1.1527, -4.2448,  0.1207,  2.1938,  0.7608,  1.6130, -0.3682,\n",
       "                        0.2043,  0.3181]])),\n",
       "             ('layer2.0.bias', tensor([-0.0184]))])"
      ]
     },
     "execution_count": 4,
     "metadata": {},
     "output_type": "execute_result"
    }
   ],
   "source": [
    "weights"
   ]
  },
  {
   "cell_type": "markdown",
   "metadata": {
    "slideshow": {
     "slide_type": "-"
    }
   },
   "source": [
    "Observe the data format. The first dictionary entry is `layer1.0.weight`, which is a 2-dimensional tensor or matrix.\n",
    "This represents the matrix 'A' of the first linear layer of our network. Look at the master documentation of pytorch at:"
   ]
  },
  {
   "cell_type": "code",
   "execution_count": 5,
   "metadata": {
    "hide_input": true
   },
   "outputs": [
    {
     "data": {
      "text/html": [
       "<iframe src=\"https://pytorch.org/docs/stable/nn.html#linear-layers\" width=\"900\" height=\"600\"></iframe>\n"
      ],
      "text/plain": [
       "<IPython.core.display.HTML object>"
      ]
     },
     "metadata": {},
     "output_type": "display_data"
    }
   ],
   "source": [
    "%%html\n",
    "<iframe src=\"https://pytorch.org/docs/stable/nn.html#linear-layers\" width=\"900\" height=\"600\"></iframe>"
   ]
  },
  {
   "cell_type": "markdown",
   "metadata": {
    "slideshow": {
     "slide_type": "-"
    }
   },
   "source": [
    "Remember that its equation was:\n",
    "\n",
    "$$\\large\n",
    "y=x \\cdot A^T + b $$\n",
    "\n",
    "In our case  \"*x*\"  consists of just 1 feature (it is 1- dimensional), and we have *N* output features (or nodes).\n",
    "Compare with the network picture in the first part. Hence \"A\" must have 1 column of N entries, which is what we observe.\n",
    "\n",
    "After that we see `layer1.0.bias`, which is the bias vector with *N* entries, one bias entry for each output node.\n",
    "\n",
    "Then we have `layer2.0.weight`, which are the weights for the next layer, which has N input features and one output feature (the approximated function value). Hence it has one row with N elements.\n",
    "\n",
    "Finally we have the bias for this layer. It has only one entry, since it only contains one node.\n",
    "\n",
    "Then the optimization runs, and we obtain the losses."
   ]
  },
  {
   "cell_type": "markdown",
   "metadata": {
    "slideshow": {
     "slide_type": "-"
    }
   },
   "source": [
    "So the loss on the validation set is somewhat higher than for the training, but less than a factor of 2, which is not too bad.\n",
    "\n",
    "If we increase the number of nodes to 80 or 100, we will observe that the loss on the training set will go down, but the loss on the validation set goes up, which is a sign of **overfitting**.\n",
    "\n",
    "Also try the activation function **\"LeakyReLu\"** for this case of 80 Nodes. It leads to a similar loss. Now try **\"ReLu\"**, and  you will find that the optimizer has a much harder time to find a good solution, because of the **vanishing gradient** of the ReLu activation function for negative inputs.\n",
    "\n",
    "The function plot for the 10 Node training set is:"
   ]
  },
  {
   "cell_type": "code",
   "execution_count": 7,
   "metadata": {
    "slideshow": {
     "slide_type": "-"
    }
   },
   "outputs": [
    {
     "data": {
      "image/png": "[encoded data removed]",
      "text/plain": [
       "<Figure size 720x576 with 1 Axes>"
      ]
     },
     "metadata": {
      "needs_background": "light"
     },
     "output_type": "display_data"
    }
   ],
   "source": [
    "plt.figure(figsize=(10,8))\n",
    "plt.plot(X.detach().numpy()[:,0],Y.detach().numpy()[:,0])\n",
    "plt.plot(X.detach().numpy()[:,0],Ypred.detach().numpy()[:,0])\n",
    "plt.legend(('Training Target', 'Prediction Output'))\n",
    "plt.xlabel('X- Input')\n",
    "plt.ylabel('Y-Output')\n",
    "plt.title('Training Result')\n",
    "plt.grid()"
   ]
  },
  {
   "cell_type": "markdown",
   "metadata": {
    "slideshow": {
     "slide_type": "-"
    }
   },
   "source": [
    "We see that we get indeed a smoothed version of the training set, which means our network is somewhat robust against the noise on the training set.\n",
    "\n",
    "The plot for the validation set is:"
   ]
  },
  {
   "cell_type": "code",
   "execution_count": 8,
   "metadata": {
    "slideshow": {
     "slide_type": "-"
    }
   },
   "outputs": [
    {
     "data": {
      "image/png": "[encoded data removed]",
      "text/plain": [
       "<Figure size 720x576 with 1 Axes>"
      ]
     },
     "metadata": {
      "needs_background": "light"
     },
     "output_type": "display_data"
    }
   ],
   "source": [
    "plt.figure(figsize=(10,8))\n",
    "plt.plot(Xval.detach().numpy()[:,0],Yval.detach().numpy()[:,0])\n",
    "plt.plot(Xval.detach().numpy()[:,0],Yvalpred.detach().numpy()[:,0])\n",
    "plt.xlabel('X- Input')\n",
    "plt.ylabel('Y-Output')\n",
    "plt.title('Generalization on Validation Set with Interpolation and Extrapolation')\n",
    "plt.legend(('Validation Target', 'Prediction Output'))\n",
    "plt.grid()"
   ]
  },
  {
   "cell_type": "markdown",
   "metadata": {
    "slideshow": {
     "slide_type": "-"
    }
   },
   "source": [
    "We see that we have a good interpolation on the X range of the training set, but the extrapolation beyond this training range is not really working.\n",
    "\n",
    "The resulting function from the network is the sum of the functions of the N nodes.\n",
    "\n",
    "To see the functions of the individual nodes, we can just keep their weight unchanged, set the others to zero, and plot the resulting function. For that we make mask with zeros for the weights of layer 2, except for one node, and plot the function. Then we repeat this for every node in a \"for\" loop,"
   ]
  },
  {
   "cell_type": "code",
   "execution_count": 9,
   "metadata": {
    "slideshow": {
     "slide_type": "-"
    }
   },
   "outputs": [
    {
     "name": "stdout",
     "output_type": "stream",
     "text": [
      "weights= OrderedDict([('layer1.0.weight', tensor([[ 0.2415],\n",
      "        [ 0.4047],\n",
      "        [-0.1126],\n",
      "        [ 1.2180],\n",
      "        [-0.2518],\n",
      "        [ 0.3115],\n",
      "        [-0.2332],\n",
      "        [ 0.2300],\n",
      "        [ 0.0528],\n",
      "        [ 0.0581]])), ('layer1.0.bias', tensor([-6.1918, -1.1939,  4.0242,  2.5634,  4.6787, -4.4766,  4.9360, -4.1202,\n",
      "        -0.3480, -1.1558])), ('layer2.0.weight', tensor([[-0.6395,  1.1527, -4.2448,  0.1207,  2.1938,  0.7608,  1.6130, -0.3682,\n",
      "          0.2043,  0.3181]])), ('layer2.0.bias', tensor([-0.0184]))])\n",
      "model.state_dict()['layer2.0.weight']= tensor([[-0.6395,  1.1527, -4.2448,  0.1207,  2.1938,  0.7608,  1.6130, -0.3682,\n",
      "          0.2043,  0.3181]])\n"
     ]
    },
    {
     "data": {
      "image/png": "[encoded data removed]",
      "text/plain": [
       "<Figure size 720x576 with 1 Axes>"
      ]
     },
     "metadata": {
      "needs_background": "light"
     },
     "output_type": "display_data"
    }
   ],
   "source": [
    "weights = model.state_dict()   #read obtained weights\n",
    "print(\"weights=\", weights)\n",
    "#Weights of layer 2:\n",
    "layer2weights=model.state_dict()['layer2.0.weight'].clone() #clone(), otherwise it is just a pointer!\n",
    "print(\"model.state_dict()['layer2.0.weight']=\", layer2weights)\n",
    "   \n",
    "#The resulting function from the network is the sum of the functions of the N nodes.\n",
    "#To see the functions of the individual nodes, we can just keep their weight unchanged, \n",
    "#set the others to zero, and plot the resulting function.\n",
    "#For that we make mask with zeros for the weights of layer 2, except for one node:\n",
    "\n",
    "plt.figure(figsize=(10,8))\n",
    "plt.xlabel('X- Input')\n",
    "plt.ylabel('Y-Output')\n",
    "plt.title('Basis Functions of the Network')\n",
    "\n",
    "for node in range(0,Nodes):\n",
    "    weightmask=torch.zeros(layer2weights.shape) #mask with all zeros for output layer, except one.\n",
    "    weightmask[0,node]=1.0 #node \"node\" unchanged\n",
    "    #print(\"weightmask\",weightmask)\n",
    "    #print(\"layer2weights=\",layer2weights)\n",
    "    #print(\"layer2weights*weightmask=\", layer2weights*weightmask)\n",
    "    model.state_dict()['layer2.0.weight'].data.copy_(layer2weights*weightmask) #write pytorch structure back to model\n",
    "    #print(\"Xval=\", Xval)\n",
    "    Ypred1node=model(Xval) # Make Predictions based on the 1-node weights \n",
    "    #print(\"Ypred1node=\", Ypred1node)\n",
    "    #Plot modified 1-node model:\n",
    "    plt.plot(Xval.detach().numpy()[:,0],Ypred1node.detach().numpy()[:,0])\n",
    "plt.grid()      \n",
    "plt.legend(('Node 0', 'Node 1', 'Node2'));\n",
    " #We see the activation function fit with bias and weight \n",
    "#to different parts of the target function\n"
   ]
  },
  {
   "cell_type": "markdown",
   "metadata": {
    "slideshow": {
     "slide_type": "-"
    }
   },
   "source": [
    "We see the activation function of each node is fit with bias and weight to different parts of the target function. Since the activation function is only fitted over the training range, they all become flat after that, and hence their sum also becomes constant."
   ]
  },
  {
   "cell_type": "markdown",
   "metadata": {
    "hide_input": false,
    "slideshow": {
     "slide_type": "slide"
    }
   },
   "source": [
    "## Deep Function Approximator"
   ]
  },
  {
   "cell_type": "code",
   "execution_count": 18,
   "metadata": {
    "hide_input": true
   },
   "outputs": [
    {
     "data": {
      "text/html": [
       "<iframe width=\"560\" height=\"315\" src=\"https://www.youtube.com/embed/iqFrQbKNdO4?rel=0\" frameborder=\"0\" allow=\"accelerometer; encrypted-media; gyroscope; picture-in-picture\" allowfullscreen></iframe>\n"
      ],
      "text/plain": [
       "<IPython.core.display.HTML object>"
      ]
     },
     "metadata": {},
     "output_type": "display_data"
    }
   ],
   "source": [
    "%%html\n",
    "<iframe width=\"560\" height=\"315\" src=\"https://www.youtube.com/embed/iqFrQbKNdO4?rel=0\" frameborder=\"0\" allow=\"accelerometer; encrypted-media; gyroscope; picture-in-picture\" allowfullscreen></iframe>"
   ]
  },
  {
   "cell_type": "markdown",
   "metadata": {
    "hide_input": true,
    "slideshow": {
     "slide_type": "-"
    }
   },
   "source": [
    "Instead of having a relatively flat network with only 3 layers, we can now distribute or nodes over more layers, each containing fewer nodes. In this way we obtain a more narrow and deeper network.\n",
    "\n",
    "In the example we have 5 layers, or 4 linear layers, but each layer has only 2 nodes, so the total number of nodes is similar:\n",
    "\n",
    "<img src='./images/02_02_neuralNetsApproDeep.png' width='800'>\n"
   ]
  },
  {
   "cell_type": "code",
   "execution_count": 11,
   "metadata": {
    "hide_input": false,
    "slideshow": {
     "slide_type": "-"
    }
   },
   "outputs": [],
   "source": [
    "\"\"\"\n",
    "Simple program to use a fully connected linear neural network layer as a 1-dimensional faunction y=f(x) approximator, using a deep network of several smaller layers instead of a wide layer.\n",
    "This could be for instance an audio signal, x would be the time, y would be the audio signal value.\n",
    "Gerald Schuller, Jan. 2020.\n",
    "--------------------------------------------\n",
    "Ported to Jupyter Notebook by Renato Profeta, Auguts 2020\n",
    "\"\"\"\n",
    "\n",
    "import torch \n",
    "import torch.nn as nn\n",
    "import matplotlib.pyplot as plt\n",
    "\n",
    "device='cpu'\n",
    "#device='cuda'\n",
    "\n",
    "N=40 #number of samples in our signal\n",
    "Nodes=2 #Nodes in each layer\n",
    "#Nodes=80  #this can result in over-fitting\n",
    "\n",
    "#A multi-layer fully connected network, 1 input (time value), hidden layer has Nodes nodes, 1 output (function value).\n",
    "\n",
    "class LinNet(nn.Module):\n",
    "    #define and initialize the layers:\n",
    "    def __init__(self):\n",
    "        super(LinNet, self).__init__()\n",
    "        # Define the model. \n",
    "        #https://pytorch.org/docs/stable/nn.html?highlight=linear#torch.nn.Linear  \n",
    "        # Generate a fully connected linear neural network model, 2 layers, bias\n",
    "        # returns: Trainable object\n",
    "        self.layer1=nn.Sequential(nn.Linear(in_features=1, out_features=Nodes, bias=True))\n",
    "        self.layer2=nn.Sequential(nn.Linear(in_features=Nodes, out_features=Nodes, bias=True))\n",
    "        self.layer3=nn.Sequential(nn.Linear(in_features=Nodes, out_features=Nodes, bias=True))\n",
    "        self.layer4=nn.Sequential(nn.Linear(in_features=Nodes, out_features=1, bias=True))\n",
    "      \n",
    "        #self.act = nn.LeakyReLU() #non-linear activation function\n",
    "        #self.act = nn.ReLU() #non-linear activation function\n",
    "        #self.act = nn.Hardtanh() #non-linear activation function\n",
    "        self.act = nn.Sigmoid() #non-linear activation function\n",
    "      \n",
    "        #Putting the network together:\n",
    "    def forward(self, x):\n",
    "        out = self.layer1(x)\n",
    "        #print(\"out.shape=\", out.shape)\n",
    "        out = self.act(out)  #comment out if not desired\n",
    "        #print(\"out.shape=\", out.shape)\n",
    "        out = self.layer2(out)\n",
    "        #print(\"out.shape=\", out.shape)\n",
    "        out = self.act(out)\n",
    "        out = self.layer3(out)\n",
    "        out = self.act(out)\n",
    "        out = self.layer4(out)\n",
    "        return out"
   ]
  },
  {
   "cell_type": "code",
   "execution_count": 12,
   "metadata": {
    "hide_input": false,
    "scrolled": false,
    "slideshow": {
     "slide_type": "-"
    }
   },
   "outputs": [
    {
     "name": "stdout",
     "output_type": "stream",
     "text": [
      "Number of input samples: 40 number of nodes: 2\n",
      "X.shape torch.Size([40, 1])\n",
      "Y.shape torch.Size([40, 1])\n",
      "Ypred.shape= torch.Size([40, 1])\n",
      "initial weights= OrderedDict([('layer1.0.weight', tensor([[0.6335],\n",
      "        [0.5824]])), ('layer1.0.bias', tensor([ 0.7903, -0.4966])), ('layer2.0.weight', tensor([[-0.0342, -0.3927],\n",
      "        [-0.2804, -0.2727]])), ('layer2.0.bias', tensor([-0.2253, -0.2949])), ('layer3.0.weight', tensor([[-0.6515,  0.1173],\n",
      "        [ 0.2142,  0.1056]])), ('layer3.0.bias', tensor([-0.5080,  0.0027])), ('layer4.0.weight', tensor([[ 0.5748, -0.4883]])), ('layer4.0.bias', tensor([0.6975]))])\n",
      "Define loss function:\n",
      "Define optimizer:\n",
      "Optimizing:\n",
      "0 0.9441583752632141\n",
      "1000 0.5360969305038452\n",
      "2000 0.431851863861084\n",
      "3000 0.05436243861913681\n",
      "4000 0.045526884496212006\n",
      "5000 0.044754479080438614\n",
      "6000 0.044330477714538574\n",
      "7000 0.04409246891736984\n",
      "8000 0.043904051184654236\n",
      "9000 0.04363683983683586\n",
      "10000 0.04311113804578781\n",
      "11000 0.04235917702317238\n",
      "12000 0.04145287722349167\n",
      "13000 0.04066087678074837\n",
      "14000 0.039813898503780365\n",
      "15000 0.03918961435556412\n",
      "16000 0.03884552791714668\n",
      "17000 0.03865858539938927\n",
      "18000 0.03853805735707283\n",
      "19000 0.03842571750283241\n",
      "20000 0.038297686725854874\n",
      "21000 0.038157958537340164\n",
      "22000 0.03802674263715744\n",
      "23000 0.03793161362409592\n",
      "24000 0.03787174075841904\n",
      "25000 0.03783418610692024\n",
      "26000 0.03780754655599594\n",
      "27000 0.03778531402349472\n",
      "28000 0.03776469826698303\n",
      "29000 0.03773524612188339\n",
      "30000 0.011874928139150143\n",
      "31000 0.009790265932679176\n",
      "32000 0.008754070848226547\n",
      "33000 0.008195171132683754\n",
      "34000 0.007900680415332317\n",
      "35000 0.007744056172668934\n",
      "36000 0.007649593986570835\n",
      "37000 0.007578557822853327\n",
      "38000 0.007520358078181744\n",
      "39000 0.007474121637642384\n",
      "40000 0.007438050117343664\n",
      "41000 0.007409709505736828\n",
      "42000 0.0073865302838385105\n",
      "43000 0.007368375547230244\n",
      "44000 0.007350594736635685\n",
      "45000 0.007335876114666462\n",
      "46000 0.007322967052459717\n",
      "47000 0.007311499677598476\n",
      "48000 0.007301219739019871\n",
      "49000 0.007291879504919052\n",
      "50000 0.007283403538167477\n",
      "51000 0.007275670766830444\n",
      "52000 0.0072687165811657906\n",
      "53000 0.007262243889272213\n",
      "54000 0.007257587276399136\n",
      "55000 0.007250864990055561\n",
      "56000 0.007245868444442749\n",
      "57000 0.007241242565214634\n",
      "58000 0.007236940320581198\n",
      "59000 0.007232952862977982\n",
      "60000 0.007229271344840527\n",
      "61000 0.007225836161524057\n",
      "62000 0.007223057560622692\n",
      "63000 0.007219627499580383\n",
      "64000 0.00721686240285635\n",
      "65000 0.007214250508695841\n",
      "66000 0.007211810909211636\n",
      "67000 0.007210762705653906\n",
      "68000 0.007207310758531094\n",
      "69000 0.007205282803624868\n",
      "70000 0.007203296758234501\n",
      "71000 0.007201500236988068\n",
      "72000 0.007199676241725683\n",
      "73000 0.007197992410510778\n",
      "74000 0.007196391932666302\n",
      "75000 0.007194865494966507\n",
      "76000 0.007193428929895163\n",
      "77000 0.007192005403339863\n",
      "78000 0.007190661039203405\n",
      "79000 0.00718992855399847\n",
      "80000 0.00718813668936491\n",
      "81000 0.007186939474195242\n",
      "82000 0.007185809314250946\n",
      "83000 0.007184918038547039\n",
      "84000 0.007190735079348087\n",
      "85000 0.007183194160461426\n",
      "86000 0.007181619759649038\n",
      "87000 0.007180701941251755\n",
      "88000 0.007179724983870983\n",
      "89000 0.007178833242505789\n",
      "90000 0.007177962455898523\n",
      "91000 0.007177545223385096\n",
      "92000 0.007176301442086697\n",
      "93000 0.007176665123552084\n",
      "94000 0.007174734957516193\n",
      "95000 0.007173971738666296\n",
      "96000 0.00717324111610651\n",
      "97000 0.007172534707933664\n",
      "98000 0.007171844597905874\n",
      "99000 0.007171256002038717\n",
      "100000 0.007170477416366339\n",
      "101000 0.007169825490564108\n",
      "102000 0.007169240154325962\n",
      "103000 0.007168562617152929\n",
      "104000 0.007167982868850231\n",
      "105000 0.007167384028434753\n",
      "106000 0.007166792638599873\n",
      "107000 0.007166221737861633\n",
      "108000 0.007165665738284588\n",
      "109000 0.007165130227804184\n",
      "110000 0.00716457050293684\n",
      "111000 0.007164058741182089\n",
      "112000 0.00716352229937911\n",
      "113000 0.007163024507462978\n",
      "114000 0.007162520196288824\n",
      "115000 0.007162030786275864\n",
      "116000 0.00716153671965003\n",
      "117000 0.007161051034927368\n",
      "118000 0.007160615175962448\n",
      "119000 0.007161037065088749\n",
      "120000 0.007159750908613205\n",
      "121000 0.007159245200455189\n",
      "122000 0.007158786989748478\n",
      "123000 0.007158344145864248\n",
      "124000 0.007157924585044384\n",
      "125000 0.007157499901950359\n",
      "126000 0.007157077081501484\n",
      "127000 0.007156668696552515\n",
      "128000 0.0071562593802809715\n",
      "129000 0.0071558705531060696\n",
      "130000 0.007158076856285334\n",
      "131000 0.0071550821885466576\n",
      "132000 0.007154707796871662\n",
      "133000 0.007155299186706543\n",
      "134000 0.007154299411922693\n",
      "135000 0.007154207676649094\n",
      "136000 0.00715442281216383\n",
      "137000 0.007154236547648907\n",
      "138000 0.007152592297643423\n",
      "139000 0.007152101956307888\n",
      "140000 0.00715226586908102\n",
      "141000 0.007151413708925247\n",
      "142000 0.007151052355766296\n",
      "143000 0.00715077156201005\n",
      "144000 0.007150431629270315\n",
      "145000 0.0071500628255307674\n",
      "146000 0.0071497089229524136\n",
      "147000 0.007149380631744862\n",
      "148000 0.007149063982069492\n",
      "149000 0.00714874779805541\n",
      "Loss on trainig set: 0.0071484298\n"
     ]
    }
   ],
   "source": [
    "print(\"Number of input samples:\", N, \"number of nodes:\", Nodes)\n",
    "#input tensor, type torch tensor:\n",
    "#Indices: batch, additional dimensions, features or signal dimension. Here: 1 batch, 3 samples, signal dimension 2: \n",
    "#Training set:\n",
    "#The x input here is the time:\n",
    "X=torch.arange(0,N,1.0) #generates N time steps for X\n",
    "X=X.view(N,1) #adding the last dimension for the signal (1 sample each), first dimension for the batch of size N\n",
    "print(\"X.shape\", X.shape)\n",
    "#Target here is the (noisy) function value, a sine function + normal distributed random values:\n",
    "#Y=torch.sin(X)+torch.empty(X.shape).normal_(std=0.5)\n",
    "Y=torch.sin(X*3.14/N*2)+torch.randn(X.shape)*0.1\n",
    "#2 periods of the sinusoid in our training set, plus noise\n",
    "#Y=Y.view(N,1)\n",
    "print(\"Y.shape\", Y.shape)\n",
    "#Validation set, to test generalization, with new noise:\n",
    "Xval=torch.arange(0.5,2*N,1.0) #generates 2N time steps for X for extrapolation beyond N,\n",
    "#shifted by 0.5 compared to training set, \n",
    "#for interpolation between the original sample points.\n",
    "#print(\"Xval=\", Xval)\n",
    "Xval=Xval.view(2*N,1)\n",
    "#Validation Target:\n",
    "Yval=torch.sin(Xval*3.14/N*2)+torch.randn(Xval.shape)*0.1\n",
    "#Yval=Yval.view(2*N,1)\n",
    "   \n",
    "#create network object:\n",
    "model = LinNet().to(device)\n",
    "#Before training:\n",
    "Ypred=model(X) #the model produces prediction output\n",
    "print(\"Ypred.shape=\", Ypred.shape)\n",
    "weights = model.state_dict()   #read obtained weights\n",
    "print(\"initial weights=\", weights)  #see the random initialization of the weights \n",
    "   \n",
    "#print(\"model.parameters()=\", model.parameters()) \n",
    "   \n",
    "print(\"Define loss function:\")\n",
    "loss_fn = nn.MSELoss() #mean squared error loss\n",
    "   \n",
    "print(\"Define optimizer:\")\n",
    "#learning_rate = 1e-4\n",
    "optimizer = torch.optim.Adam(model.parameters())\n",
    "#optimizer = torch.optim.SGD(model.parameters(),lr=0.1)\n",
    "print(\"Optimizing:\")\n",
    "for epoch in range(150000):\n",
    "    Ypred=model(X) #the model produces prediction output\n",
    "    loss=loss_fn(Ypred, Y) #prediction and target compared by loss\n",
    "    if epoch%1000==0:\n",
    "        print(epoch, loss.item()) #print current loss value\n",
    "    optimizer.zero_grad() #optimizer sets previous gradients to zero\n",
    "    loss.backward() #optimizer computes new gradients\n",
    "    optimizer.step() #optimizer updates weights\n",
    "       \n",
    "Ypred=model(X) # Make Predictions based on the obtained weights \n",
    "#print(\"Ypred training set=\", Ypred) \n",
    "loss=loss_fn(Ypred, Y)\n",
    "print(\"Loss on trainig set:\", loss.detach().numpy())\n"
   ]
  },
  {
   "cell_type": "markdown",
   "metadata": {
    "slideshow": {
     "slide_type": "-"
    }
   },
   "source": [
    "It turns out that the adam optimizer now needs many more iterations, 150000, instead of just 10000, hence 15 times as long, but the resulting function approximation seems to be more smooth. This is an **advantage for the generalization**, observe that the validation set now has a very similar loss as the training set."
   ]
  },
  {
   "cell_type": "markdown",
   "metadata": {
    "slideshow": {
     "slide_type": "-"
    }
   },
   "source": [
    "It plots the following result for the training set:"
   ]
  },
  {
   "cell_type": "markdown",
   "metadata": {
    "slideshow": {
     "slide_type": "-"
    }
   },
   "source": [
    "plt.figure(figsize=(10,8))\n",
    "plt.plot(X.detach().numpy()[:,0],Y.detach().numpy()[:,0])\n",
    "plt.plot(X.detach().numpy()[:,0],Ypred.detach().numpy()[:,0])\n",
    "plt.legend(('Training Target', 'Prediction Output'))\n",
    "plt.xlabel('X- Input')\n",
    "plt.ylabel('Y-Output')\n",
    "plt.title('Training Result')\n",
    "plt.grid()\n",
    "Yvalpred=model(Xval) # Make Predictions based on the obtained weights \n",
    "#print(\"Y validation set=\", Yvalpred.detach().numpy()) \n",
    "loss=loss_fn(Yvalpred[:N,:], Yval[:N,:])\n",
    "print(\"Loss on validation set:\", loss.detach().numpy())\n"
   ]
  },
  {
   "cell_type": "markdown",
   "metadata": {},
   "source": [
    "Observe that the optimization has a harder time to fit the function, despite the 15 times more iterations. But often it is found that deep networks are better for the generalization, which should give the Loss for the validation and test similar values as for training."
   ]
  },
  {
   "cell_type": "markdown",
   "metadata": {},
   "source": [
    "It plots the following for the validation set:"
   ]
  },
  {
   "cell_type": "code",
   "execution_count": 14,
   "metadata": {},
   "outputs": [
    {
     "name": "stdout",
     "output_type": "stream",
     "text": [
      "weights= OrderedDict([('layer1.0.weight', tensor([[0.1475],\n",
      "        [0.5575]])), ('layer1.0.bias', tensor([-3.5223, -2.4937])), ('layer2.0.weight', tensor([[12.1843, -4.3992],\n",
      "        [10.8847, -8.8776]])), ('layer2.0.bias', tensor([ 0.6582, -2.2007])), ('layer3.0.weight', tensor([[-1.5357,  5.1039],\n",
      "        [19.0651, 95.6845]])), ('layer3.0.bias', tensor([ -1.7864, -18.6451])), ('layer4.0.weight', tensor([[16.3941, -0.7664]])), ('layer4.0.bias', tensor([-0.9849]))])\n",
      "model.state_dict()['layer2.0.weight']= tensor([[12.1843, -4.3992],\n",
      "        [10.8847, -8.8776]])\n"
     ]
    },
    {
     "data": {
      "image/png": "[encoded data removed]",
      "text/plain": [
       "<Figure size 720x576 with 1 Axes>"
      ]
     },
     "metadata": {
      "needs_background": "light"
     },
     "output_type": "display_data"
    }
   ],
   "source": [
    "plt.figure(figsize=(10,8))\n",
    "plt.plot(Xval.detach().numpy()[:,0],Yval.detach().numpy()[:,0])\n",
    "plt.plot(Xval.detach().numpy()[:,0],Yvalpred.detach().numpy()[:,0])\n",
    "plt.xlabel('X- Input')\n",
    "plt.ylabel('Y-Output')\n",
    "plt.title('Generalization on Validation Set with Interpolation and Extrapolation')\n",
    "plt.legend(('Validation Target', 'Prediction Output'))\n",
    "plt.grid()\n",
    "   \n",
    "weights = model.state_dict()   #read obtained weights\n",
    "print(\"weights=\", weights)\n",
    "#Weights of layer 2:\n",
    "layer2weights=model.state_dict()['layer2.0.weight'].clone() #clone(), otherwise it is just a pointer!\n",
    "print(\"model.state_dict()['layer2.0.weight']=\", layer2weights)\n",
    "   "
   ]
  },
  {
   "cell_type": "markdown",
   "metadata": {},
   "source": [
    "We see that it does a reasonable interpolation, with a smooth curve fitting."
   ]
  },
  {
   "cell_type": "code",
   "execution_count": 15,
   "metadata": {
    "hide_input": false
   },
   "outputs": [
    {
     "data": {
      "image/png": "[encoded data removed]",
      "text/plain": [
       "<Figure size 720x576 with 1 Axes>"
      ]
     },
     "metadata": {
      "needs_background": "light"
     },
     "output_type": "display_data"
    }
   ],
   "source": [
    "#The resulting function from the network is the sum of the functions of the N nodes.\n",
    "#To see the functions of the individual nodes, we can just keep their weight unchanged, \n",
    "#set the others to zero, and plot the resulting function.\n",
    "#For that we make mask with zeros for the weights of layer 2, except for one node:\n",
    "\n",
    "plt.figure(figsize=(10,8))\n",
    "plt.xlabel('X- Input')\n",
    "plt.ylabel('Y-Output')\n",
    "plt.title('Basis Functions of the Network')\n",
    "for node in range(0,Nodes):\n",
    "    weightmask=torch.zeros(layer2weights.shape) #mask with all zeros for output layer, except one.\n",
    "    weightmask[0,node]=1.0 #node \"node\" unchanged\n",
    "    #print(\"weightmask\",weightmask)\n",
    "    #print(\"layer2weights=\",layer2weights)\n",
    "    #print(\"layer2weights*weightmask=\", layer2weights*weightmask)\n",
    "    model.state_dict()['layer2.0.weight'].data.copy_(layer2weights*weightmask) #write pytorch structure back to model\n",
    "    #print(\"Xval=\", Xval)\n",
    "    Ypred1node=model(Xval) # Make Predictions based on the 1-node weights \n",
    "    #print(\"Ypred1node=\", Ypred1node)\n",
    "    #Plot modified 1-node model:\n",
    "    plt.plot(Xval.detach().numpy()[:,0],Ypred1node.detach().numpy()[:,0])\n",
    "      \n",
    "#plt.legend(('Validation Target', 'Prediction Output', 'Node 0', 'Node 5'))\n",
    "plt.legend(('Node 0', 'Node 1', 'Node2'))\n",
    "plt.grid()\n",
    "#We see the activation function fit with bias and weight \n",
    "#to different parts of the target function"
   ]
  },
  {
   "cell_type": "code",
   "execution_count": null,
   "metadata": {},
   "outputs": [],
   "source": []
  },
  {
   "cell_type": "code",
   "execution_count": null,
   "metadata": {},
   "outputs": [],
   "source": []
  }
 ],
 "metadata": {
  "kernelspec": {
   "display_name": "Python 3",
   "language": "python",
   "name": "python3"
  },
  "language_info": {
   "codemirror_mode": {
    "name": "ipython",
    "version": 3
   },
   "file_extension": ".py",
   "mimetype": "text/x-python",
   "name": "python",
   "nbconvert_exporter": "python",
   "pygments_lexer": "ipython3",
   "version": "3.7.8"
  }
 },
 "nbformat": 4,
 "nbformat_minor": 2
}

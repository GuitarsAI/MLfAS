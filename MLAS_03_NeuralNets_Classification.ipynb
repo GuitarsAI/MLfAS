{
  "nbformat": 4,
  "nbformat_minor": 0,
  "metadata": {
    "kernelspec": {
      "display_name": "Python 3",
      "language": "python",
      "name": "python3"
    },
    "language_info": {
      "codemirror_mode": {
        "name": "ipython",
        "version": 3
      },
      "file_extension": ".py",
      "mimetype": "text/x-python",
      "name": "python",
      "nbconvert_exporter": "python",
      "pygments_lexer": "ipython3",
      "version": "3.7.8"
    },
    "colab": {
      "name": "MLAS_03_NeuralNets_Classification.ipynb",
      "provenance": []
    },
    "widgets": {
      "application/vnd.jupyter.widget-state+json": {
        "8d81ace9da7d4350a7cd70e3f72aacc8": {
          "model_module": "@jupyter-widgets/controls",
          "model_name": "HBoxModel",
          "state": {
            "_view_name": "HBoxView",
            "_dom_classes": [],
            "_model_name": "HBoxModel",
            "_view_module": "@jupyter-widgets/controls",
            "_model_module_version": "1.5.0",
            "_view_count": null,
            "_view_module_version": "1.5.0",
            "box_style": "",
            "layout": "IPY_MODEL_0e794f3a81334795a216e9f10f405e3b",
            "_model_module": "@jupyter-widgets/controls",
            "children": [
              "IPY_MODEL_06e71dbc466444feb8eb13ec38341cf3",
              "IPY_MODEL_ca6e0a5e57a84aca9b4ff6035984c50b"
            ]
          }
        },
        "0e794f3a81334795a216e9f10f405e3b": {
          "model_module": "@jupyter-widgets/base",
          "model_name": "LayoutModel",
          "state": {
            "_view_name": "LayoutView",
            "grid_template_rows": null,
            "right": null,
            "justify_content": null,
            "_view_module": "@jupyter-widgets/base",
            "overflow": null,
            "_model_module_version": "1.2.0",
            "_view_count": null,
            "flex_flow": null,
            "width": null,
            "min_width": null,
            "border": null,
            "align_items": null,
            "bottom": null,
            "_model_module": "@jupyter-widgets/base",
            "top": null,
            "grid_column": null,
            "overflow_y": null,
            "overflow_x": null,
            "grid_auto_flow": null,
            "grid_area": null,
            "grid_template_columns": null,
            "flex": null,
            "_model_name": "LayoutModel",
            "justify_items": null,
            "grid_row": null,
            "max_height": null,
            "align_content": null,
            "visibility": null,
            "align_self": null,
            "height": null,
            "min_height": null,
            "padding": null,
            "grid_auto_rows": null,
            "grid_gap": null,
            "max_width": null,
            "order": null,
            "_view_module_version": "1.2.0",
            "grid_template_areas": null,
            "object_position": null,
            "object_fit": null,
            "grid_auto_columns": null,
            "margin": null,
            "display": null,
            "left": null
          }
        },
        "06e71dbc466444feb8eb13ec38341cf3": {
          "model_module": "@jupyter-widgets/controls",
          "model_name": "FloatProgressModel",
          "state": {
            "_view_name": "ProgressView",
            "style": "IPY_MODEL_62204b1e00874ea1bcf588546dd401a6",
            "_dom_classes": [],
            "description": "",
            "_model_name": "FloatProgressModel",
            "bar_style": "success",
            "max": 1,
            "_view_module": "@jupyter-widgets/controls",
            "_model_module_version": "1.5.0",
            "value": 1,
            "_view_count": null,
            "_view_module_version": "1.5.0",
            "orientation": "horizontal",
            "min": 0,
            "description_tooltip": null,
            "_model_module": "@jupyter-widgets/controls",
            "layout": "IPY_MODEL_7e2e5742994444e69d7d3b9f8f044e41"
          }
        },
        "ca6e0a5e57a84aca9b4ff6035984c50b": {
          "model_module": "@jupyter-widgets/controls",
          "model_name": "HTMLModel",
          "state": {
            "_view_name": "HTMLView",
            "style": "IPY_MODEL_f4a87365703045bb8c279fcb1ff1d533",
            "_dom_classes": [],
            "description": "",
            "_model_name": "HTMLModel",
            "placeholder": "​",
            "_view_module": "@jupyter-widgets/controls",
            "_model_module_version": "1.5.0",
            "value": " 9920512/? [00:01&lt;00:00, 6557060.41it/s]",
            "_view_count": null,
            "_view_module_version": "1.5.0",
            "description_tooltip": null,
            "_model_module": "@jupyter-widgets/controls",
            "layout": "IPY_MODEL_02451cd6cc804ff8b406393507fbb150"
          }
        },
        "62204b1e00874ea1bcf588546dd401a6": {
          "model_module": "@jupyter-widgets/controls",
          "model_name": "ProgressStyleModel",
          "state": {
            "_view_name": "StyleView",
            "_model_name": "ProgressStyleModel",
            "description_width": "initial",
            "_view_module": "@jupyter-widgets/base",
            "_model_module_version": "1.5.0",
            "_view_count": null,
            "_view_module_version": "1.2.0",
            "bar_color": null,
            "_model_module": "@jupyter-widgets/controls"
          }
        },
        "7e2e5742994444e69d7d3b9f8f044e41": {
          "model_module": "@jupyter-widgets/base",
          "model_name": "LayoutModel",
          "state": {
            "_view_name": "LayoutView",
            "grid_template_rows": null,
            "right": null,
            "justify_content": null,
            "_view_module": "@jupyter-widgets/base",
            "overflow": null,
            "_model_module_version": "1.2.0",
            "_view_count": null,
            "flex_flow": null,
            "width": null,
            "min_width": null,
            "border": null,
            "align_items": null,
            "bottom": null,
            "_model_module": "@jupyter-widgets/base",
            "top": null,
            "grid_column": null,
            "overflow_y": null,
            "overflow_x": null,
            "grid_auto_flow": null,
            "grid_area": null,
            "grid_template_columns": null,
            "flex": null,
            "_model_name": "LayoutModel",
            "justify_items": null,
            "grid_row": null,
            "max_height": null,
            "align_content": null,
            "visibility": null,
            "align_self": null,
            "height": null,
            "min_height": null,
            "padding": null,
            "grid_auto_rows": null,
            "grid_gap": null,
            "max_width": null,
            "order": null,
            "_view_module_version": "1.2.0",
            "grid_template_areas": null,
            "object_position": null,
            "object_fit": null,
            "grid_auto_columns": null,
            "margin": null,
            "display": null,
            "left": null
          }
        },
        "f4a87365703045bb8c279fcb1ff1d533": {
          "model_module": "@jupyter-widgets/controls",
          "model_name": "DescriptionStyleModel",
          "state": {
            "_view_name": "StyleView",
            "_model_name": "DescriptionStyleModel",
            "description_width": "",
            "_view_module": "@jupyter-widgets/base",
            "_model_module_version": "1.5.0",
            "_view_count": null,
            "_view_module_version": "1.2.0",
            "_model_module": "@jupyter-widgets/controls"
          }
        },
        "02451cd6cc804ff8b406393507fbb150": {
          "model_module": "@jupyter-widgets/base",
          "model_name": "LayoutModel",
          "state": {
            "_view_name": "LayoutView",
            "grid_template_rows": null,
            "right": null,
            "justify_content": null,
            "_view_module": "@jupyter-widgets/base",
            "overflow": null,
            "_model_module_version": "1.2.0",
            "_view_count": null,
            "flex_flow": null,
            "width": null,
            "min_width": null,
            "border": null,
            "align_items": null,
            "bottom": null,
            "_model_module": "@jupyter-widgets/base",
            "top": null,
            "grid_column": null,
            "overflow_y": null,
            "overflow_x": null,
            "grid_auto_flow": null,
            "grid_area": null,
            "grid_template_columns": null,
            "flex": null,
            "_model_name": "LayoutModel",
            "justify_items": null,
            "grid_row": null,
            "max_height": null,
            "align_content": null,
            "visibility": null,
            "align_self": null,
            "height": null,
            "min_height": null,
            "padding": null,
            "grid_auto_rows": null,
            "grid_gap": null,
            "max_width": null,
            "order": null,
            "_view_module_version": "1.2.0",
            "grid_template_areas": null,
            "object_position": null,
            "object_fit": null,
            "grid_auto_columns": null,
            "margin": null,
            "display": null,
            "left": null
          }
        },
        "03b19ff8c63b48e49bdb195fc9577575": {
          "model_module": "@jupyter-widgets/controls",
          "model_name": "HBoxModel",
          "state": {
            "_view_name": "HBoxView",
            "_dom_classes": [],
            "_model_name": "HBoxModel",
            "_view_module": "@jupyter-widgets/controls",
            "_model_module_version": "1.5.0",
            "_view_count": null,
            "_view_module_version": "1.5.0",
            "box_style": "",
            "layout": "IPY_MODEL_6cfd0a7280a2408e8790ef2650ec2935",
            "_model_module": "@jupyter-widgets/controls",
            "children": [
              "IPY_MODEL_ee938098bff044cf95b88af20fbfda31",
              "IPY_MODEL_b13bb32842444b34898f1d702072f8f3"
            ]
          }
        },
        "6cfd0a7280a2408e8790ef2650ec2935": {
          "model_module": "@jupyter-widgets/base",
          "model_name": "LayoutModel",
          "state": {
            "_view_name": "LayoutView",
            "grid_template_rows": null,
            "right": null,
            "justify_content": null,
            "_view_module": "@jupyter-widgets/base",
            "overflow": null,
            "_model_module_version": "1.2.0",
            "_view_count": null,
            "flex_flow": null,
            "width": null,
            "min_width": null,
            "border": null,
            "align_items": null,
            "bottom": null,
            "_model_module": "@jupyter-widgets/base",
            "top": null,
            "grid_column": null,
            "overflow_y": null,
            "overflow_x": null,
            "grid_auto_flow": null,
            "grid_area": null,
            "grid_template_columns": null,
            "flex": null,
            "_model_name": "LayoutModel",
            "justify_items": null,
            "grid_row": null,
            "max_height": null,
            "align_content": null,
            "visibility": null,
            "align_self": null,
            "height": null,
            "min_height": null,
            "padding": null,
            "grid_auto_rows": null,
            "grid_gap": null,
            "max_width": null,
            "order": null,
            "_view_module_version": "1.2.0",
            "grid_template_areas": null,
            "object_position": null,
            "object_fit": null,
            "grid_auto_columns": null,
            "margin": null,
            "display": null,
            "left": null
          }
        },
        "ee938098bff044cf95b88af20fbfda31": {
          "model_module": "@jupyter-widgets/controls",
          "model_name": "FloatProgressModel",
          "state": {
            "_view_name": "ProgressView",
            "style": "IPY_MODEL_a79c0a8d13824e6485a584677e4e0d36",
            "_dom_classes": [],
            "description": "",
            "_model_name": "FloatProgressModel",
            "bar_style": "success",
            "max": 1,
            "_view_module": "@jupyter-widgets/controls",
            "_model_module_version": "1.5.0",
            "value": 1,
            "_view_count": null,
            "_view_module_version": "1.5.0",
            "orientation": "horizontal",
            "min": 0,
            "description_tooltip": null,
            "_model_module": "@jupyter-widgets/controls",
            "layout": "IPY_MODEL_cce5983ad6294dca96e5628ec2b1f3b2"
          }
        },
        "b13bb32842444b34898f1d702072f8f3": {
          "model_module": "@jupyter-widgets/controls",
          "model_name": "HTMLModel",
          "state": {
            "_view_name": "HTMLView",
            "style": "IPY_MODEL_b106afbf78394413a6cd31d432270e3d",
            "_dom_classes": [],
            "description": "",
            "_model_name": "HTMLModel",
            "placeholder": "​",
            "_view_module": "@jupyter-widgets/controls",
            "_model_module_version": "1.5.0",
            "value": " 32768/? [00:00&lt;00:00, 40578.13it/s]",
            "_view_count": null,
            "_view_module_version": "1.5.0",
            "description_tooltip": null,
            "_model_module": "@jupyter-widgets/controls",
            "layout": "IPY_MODEL_76b3ca904a2c45259346dc96ad26a6b6"
          }
        },
        "a79c0a8d13824e6485a584677e4e0d36": {
          "model_module": "@jupyter-widgets/controls",
          "model_name": "ProgressStyleModel",
          "state": {
            "_view_name": "StyleView",
            "_model_name": "ProgressStyleModel",
            "description_width": "initial",
            "_view_module": "@jupyter-widgets/base",
            "_model_module_version": "1.5.0",
            "_view_count": null,
            "_view_module_version": "1.2.0",
            "bar_color": null,
            "_model_module": "@jupyter-widgets/controls"
          }
        },
        "cce5983ad6294dca96e5628ec2b1f3b2": {
          "model_module": "@jupyter-widgets/base",
          "model_name": "LayoutModel",
          "state": {
            "_view_name": "LayoutView",
            "grid_template_rows": null,
            "right": null,
            "justify_content": null,
            "_view_module": "@jupyter-widgets/base",
            "overflow": null,
            "_model_module_version": "1.2.0",
            "_view_count": null,
            "flex_flow": null,
            "width": null,
            "min_width": null,
            "border": null,
            "align_items": null,
            "bottom": null,
            "_model_module": "@jupyter-widgets/base",
            "top": null,
            "grid_column": null,
            "overflow_y": null,
            "overflow_x": null,
            "grid_auto_flow": null,
            "grid_area": null,
            "grid_template_columns": null,
            "flex": null,
            "_model_name": "LayoutModel",
            "justify_items": null,
            "grid_row": null,
            "max_height": null,
            "align_content": null,
            "visibility": null,
            "align_self": null,
            "height": null,
            "min_height": null,
            "padding": null,
            "grid_auto_rows": null,
            "grid_gap": null,
            "max_width": null,
            "order": null,
            "_view_module_version": "1.2.0",
            "grid_template_areas": null,
            "object_position": null,
            "object_fit": null,
            "grid_auto_columns": null,
            "margin": null,
            "display": null,
            "left": null
          }
        },
        "b106afbf78394413a6cd31d432270e3d": {
          "model_module": "@jupyter-widgets/controls",
          "model_name": "DescriptionStyleModel",
          "state": {
            "_view_name": "StyleView",
            "_model_name": "DescriptionStyleModel",
            "description_width": "",
            "_view_module": "@jupyter-widgets/base",
            "_model_module_version": "1.5.0",
            "_view_count": null,
            "_view_module_version": "1.2.0",
            "_model_module": "@jupyter-widgets/controls"
          }
        },
        "76b3ca904a2c45259346dc96ad26a6b6": {
          "model_module": "@jupyter-widgets/base",
          "model_name": "LayoutModel",
          "state": {
            "_view_name": "LayoutView",
            "grid_template_rows": null,
            "right": null,
            "justify_content": null,
            "_view_module": "@jupyter-widgets/base",
            "overflow": null,
            "_model_module_version": "1.2.0",
            "_view_count": null,
            "flex_flow": null,
            "width": null,
            "min_width": null,
            "border": null,
            "align_items": null,
            "bottom": null,
            "_model_module": "@jupyter-widgets/base",
            "top": null,
            "grid_column": null,
            "overflow_y": null,
            "overflow_x": null,
            "grid_auto_flow": null,
            "grid_area": null,
            "grid_template_columns": null,
            "flex": null,
            "_model_name": "LayoutModel",
            "justify_items": null,
            "grid_row": null,
            "max_height": null,
            "align_content": null,
            "visibility": null,
            "align_self": null,
            "height": null,
            "min_height": null,
            "padding": null,
            "grid_auto_rows": null,
            "grid_gap": null,
            "max_width": null,
            "order": null,
            "_view_module_version": "1.2.0",
            "grid_template_areas": null,
            "object_position": null,
            "object_fit": null,
            "grid_auto_columns": null,
            "margin": null,
            "display": null,
            "left": null
          }
        },
        "7980fb648e45461c9a46f4954c8e2ea5": {
          "model_module": "@jupyter-widgets/controls",
          "model_name": "HBoxModel",
          "state": {
            "_view_name": "HBoxView",
            "_dom_classes": [],
            "_model_name": "HBoxModel",
            "_view_module": "@jupyter-widgets/controls",
            "_model_module_version": "1.5.0",
            "_view_count": null,
            "_view_module_version": "1.5.0",
            "box_style": "",
            "layout": "IPY_MODEL_e475f4e9b803468aa25b3e4f82b4be8c",
            "_model_module": "@jupyter-widgets/controls",
            "children": [
              "IPY_MODEL_2c7e63fdfbe44370b5c1745dffcbded7",
              "IPY_MODEL_7db3fc05b8454682bd8dc165f20690ac"
            ]
          }
        },
        "e475f4e9b803468aa25b3e4f82b4be8c": {
          "model_module": "@jupyter-widgets/base",
          "model_name": "LayoutModel",
          "state": {
            "_view_name": "LayoutView",
            "grid_template_rows": null,
            "right": null,
            "justify_content": null,
            "_view_module": "@jupyter-widgets/base",
            "overflow": null,
            "_model_module_version": "1.2.0",
            "_view_count": null,
            "flex_flow": null,
            "width": null,
            "min_width": null,
            "border": null,
            "align_items": null,
            "bottom": null,
            "_model_module": "@jupyter-widgets/base",
            "top": null,
            "grid_column": null,
            "overflow_y": null,
            "overflow_x": null,
            "grid_auto_flow": null,
            "grid_area": null,
            "grid_template_columns": null,
            "flex": null,
            "_model_name": "LayoutModel",
            "justify_items": null,
            "grid_row": null,
            "max_height": null,
            "align_content": null,
            "visibility": null,
            "align_self": null,
            "height": null,
            "min_height": null,
            "padding": null,
            "grid_auto_rows": null,
            "grid_gap": null,
            "max_width": null,
            "order": null,
            "_view_module_version": "1.2.0",
            "grid_template_areas": null,
            "object_position": null,
            "object_fit": null,
            "grid_auto_columns": null,
            "margin": null,
            "display": null,
            "left": null
          }
        },
        "2c7e63fdfbe44370b5c1745dffcbded7": {
          "model_module": "@jupyter-widgets/controls",
          "model_name": "FloatProgressModel",
          "state": {
            "_view_name": "ProgressView",
            "style": "IPY_MODEL_6e28ae1a96864ffbbc950ccd6bd33015",
            "_dom_classes": [],
            "description": "",
            "_model_name": "FloatProgressModel",
            "bar_style": "success",
            "max": 1,
            "_view_module": "@jupyter-widgets/controls",
            "_model_module_version": "1.5.0",
            "value": 1,
            "_view_count": null,
            "_view_module_version": "1.5.0",
            "orientation": "horizontal",
            "min": 0,
            "description_tooltip": null,
            "_model_module": "@jupyter-widgets/controls",
            "layout": "IPY_MODEL_2c8adeb602604c42abd6193eee27c112"
          }
        },
        "7db3fc05b8454682bd8dc165f20690ac": {
          "model_module": "@jupyter-widgets/controls",
          "model_name": "HTMLModel",
          "state": {
            "_view_name": "HTMLView",
            "style": "IPY_MODEL_882e912bc97141589a28a7b2d975d252",
            "_dom_classes": [],
            "description": "",
            "_model_name": "HTMLModel",
            "placeholder": "​",
            "_view_module": "@jupyter-widgets/controls",
            "_model_module_version": "1.5.0",
            "value": " 1654784/? [00:00&lt;00:00, 2610642.48it/s]",
            "_view_count": null,
            "_view_module_version": "1.5.0",
            "description_tooltip": null,
            "_model_module": "@jupyter-widgets/controls",
            "layout": "IPY_MODEL_48240401f50645b8970b30b0b740b6c6"
          }
        },
        "6e28ae1a96864ffbbc950ccd6bd33015": {
          "model_module": "@jupyter-widgets/controls",
          "model_name": "ProgressStyleModel",
          "state": {
            "_view_name": "StyleView",
            "_model_name": "ProgressStyleModel",
            "description_width": "initial",
            "_view_module": "@jupyter-widgets/base",
            "_model_module_version": "1.5.0",
            "_view_count": null,
            "_view_module_version": "1.2.0",
            "bar_color": null,
            "_model_module": "@jupyter-widgets/controls"
          }
        },
        "2c8adeb602604c42abd6193eee27c112": {
          "model_module": "@jupyter-widgets/base",
          "model_name": "LayoutModel",
          "state": {
            "_view_name": "LayoutView",
            "grid_template_rows": null,
            "right": null,
            "justify_content": null,
            "_view_module": "@jupyter-widgets/base",
            "overflow": null,
            "_model_module_version": "1.2.0",
            "_view_count": null,
            "flex_flow": null,
            "width": null,
            "min_width": null,
            "border": null,
            "align_items": null,
            "bottom": null,
            "_model_module": "@jupyter-widgets/base",
            "top": null,
            "grid_column": null,
            "overflow_y": null,
            "overflow_x": null,
            "grid_auto_flow": null,
            "grid_area": null,
            "grid_template_columns": null,
            "flex": null,
            "_model_name": "LayoutModel",
            "justify_items": null,
            "grid_row": null,
            "max_height": null,
            "align_content": null,
            "visibility": null,
            "align_self": null,
            "height": null,
            "min_height": null,
            "padding": null,
            "grid_auto_rows": null,
            "grid_gap": null,
            "max_width": null,
            "order": null,
            "_view_module_version": "1.2.0",
            "grid_template_areas": null,
            "object_position": null,
            "object_fit": null,
            "grid_auto_columns": null,
            "margin": null,
            "display": null,
            "left": null
          }
        },
        "882e912bc97141589a28a7b2d975d252": {
          "model_module": "@jupyter-widgets/controls",
          "model_name": "DescriptionStyleModel",
          "state": {
            "_view_name": "StyleView",
            "_model_name": "DescriptionStyleModel",
            "description_width": "",
            "_view_module": "@jupyter-widgets/base",
            "_model_module_version": "1.5.0",
            "_view_count": null,
            "_view_module_version": "1.2.0",
            "_model_module": "@jupyter-widgets/controls"
          }
        },
        "48240401f50645b8970b30b0b740b6c6": {
          "model_module": "@jupyter-widgets/base",
          "model_name": "LayoutModel",
          "state": {
            "_view_name": "LayoutView",
            "grid_template_rows": null,
            "right": null,
            "justify_content": null,
            "_view_module": "@jupyter-widgets/base",
            "overflow": null,
            "_model_module_version": "1.2.0",
            "_view_count": null,
            "flex_flow": null,
            "width": null,
            "min_width": null,
            "border": null,
            "align_items": null,
            "bottom": null,
            "_model_module": "@jupyter-widgets/base",
            "top": null,
            "grid_column": null,
            "overflow_y": null,
            "overflow_x": null,
            "grid_auto_flow": null,
            "grid_area": null,
            "grid_template_columns": null,
            "flex": null,
            "_model_name": "LayoutModel",
            "justify_items": null,
            "grid_row": null,
            "max_height": null,
            "align_content": null,
            "visibility": null,
            "align_self": null,
            "height": null,
            "min_height": null,
            "padding": null,
            "grid_auto_rows": null,
            "grid_gap": null,
            "max_width": null,
            "order": null,
            "_view_module_version": "1.2.0",
            "grid_template_areas": null,
            "object_position": null,
            "object_fit": null,
            "grid_auto_columns": null,
            "margin": null,
            "display": null,
            "left": null
          }
        },
        "4d3c5106f21548778666bddecc30af46": {
          "model_module": "@jupyter-widgets/controls",
          "model_name": "HBoxModel",
          "state": {
            "_view_name": "HBoxView",
            "_dom_classes": [],
            "_model_name": "HBoxModel",
            "_view_module": "@jupyter-widgets/controls",
            "_model_module_version": "1.5.0",
            "_view_count": null,
            "_view_module_version": "1.5.0",
            "box_style": "",
            "layout": "IPY_MODEL_0893b4e3182f45caaf76663846f82d7a",
            "_model_module": "@jupyter-widgets/controls",
            "children": [
              "IPY_MODEL_dd57f61e43aa43b8b1679b530e353e5c",
              "IPY_MODEL_814045b582d44396869cf172eb9ffb69"
            ]
          }
        },
        "0893b4e3182f45caaf76663846f82d7a": {
          "model_module": "@jupyter-widgets/base",
          "model_name": "LayoutModel",
          "state": {
            "_view_name": "LayoutView",
            "grid_template_rows": null,
            "right": null,
            "justify_content": null,
            "_view_module": "@jupyter-widgets/base",
            "overflow": null,
            "_model_module_version": "1.2.0",
            "_view_count": null,
            "flex_flow": null,
            "width": null,
            "min_width": null,
            "border": null,
            "align_items": null,
            "bottom": null,
            "_model_module": "@jupyter-widgets/base",
            "top": null,
            "grid_column": null,
            "overflow_y": null,
            "overflow_x": null,
            "grid_auto_flow": null,
            "grid_area": null,
            "grid_template_columns": null,
            "flex": null,
            "_model_name": "LayoutModel",
            "justify_items": null,
            "grid_row": null,
            "max_height": null,
            "align_content": null,
            "visibility": null,
            "align_self": null,
            "height": null,
            "min_height": null,
            "padding": null,
            "grid_auto_rows": null,
            "grid_gap": null,
            "max_width": null,
            "order": null,
            "_view_module_version": "1.2.0",
            "grid_template_areas": null,
            "object_position": null,
            "object_fit": null,
            "grid_auto_columns": null,
            "margin": null,
            "display": null,
            "left": null
          }
        },
        "dd57f61e43aa43b8b1679b530e353e5c": {
          "model_module": "@jupyter-widgets/controls",
          "model_name": "FloatProgressModel",
          "state": {
            "_view_name": "ProgressView",
            "style": "IPY_MODEL_172bc3033b334999976afb6fdeb65087",
            "_dom_classes": [],
            "description": "",
            "_model_name": "FloatProgressModel",
            "bar_style": "success",
            "max": 1,
            "_view_module": "@jupyter-widgets/controls",
            "_model_module_version": "1.5.0",
            "value": 1,
            "_view_count": null,
            "_view_module_version": "1.5.0",
            "orientation": "horizontal",
            "min": 0,
            "description_tooltip": null,
            "_model_module": "@jupyter-widgets/controls",
            "layout": "IPY_MODEL_1aaf4bfc08a342ed8e31830da7406fc0"
          }
        },
        "814045b582d44396869cf172eb9ffb69": {
          "model_module": "@jupyter-widgets/controls",
          "model_name": "HTMLModel",
          "state": {
            "_view_name": "HTMLView",
            "style": "IPY_MODEL_84a2bbae3b5c4f2da8e5002fb698d074",
            "_dom_classes": [],
            "description": "",
            "_model_name": "HTMLModel",
            "placeholder": "​",
            "_view_module": "@jupyter-widgets/controls",
            "_model_module_version": "1.5.0",
            "value": " 8192/? [00:00&lt;00:00, 23034.77it/s]",
            "_view_count": null,
            "_view_module_version": "1.5.0",
            "description_tooltip": null,
            "_model_module": "@jupyter-widgets/controls",
            "layout": "IPY_MODEL_92428e0853634af4a74738e2e5575297"
          }
        },
        "172bc3033b334999976afb6fdeb65087": {
          "model_module": "@jupyter-widgets/controls",
          "model_name": "ProgressStyleModel",
          "state": {
            "_view_name": "StyleView",
            "_model_name": "ProgressStyleModel",
            "description_width": "initial",
            "_view_module": "@jupyter-widgets/base",
            "_model_module_version": "1.5.0",
            "_view_count": null,
            "_view_module_version": "1.2.0",
            "bar_color": null,
            "_model_module": "@jupyter-widgets/controls"
          }
        },
        "1aaf4bfc08a342ed8e31830da7406fc0": {
          "model_module": "@jupyter-widgets/base",
          "model_name": "LayoutModel",
          "state": {
            "_view_name": "LayoutView",
            "grid_template_rows": null,
            "right": null,
            "justify_content": null,
            "_view_module": "@jupyter-widgets/base",
            "overflow": null,
            "_model_module_version": "1.2.0",
            "_view_count": null,
            "flex_flow": null,
            "width": null,
            "min_width": null,
            "border": null,
            "align_items": null,
            "bottom": null,
            "_model_module": "@jupyter-widgets/base",
            "top": null,
            "grid_column": null,
            "overflow_y": null,
            "overflow_x": null,
            "grid_auto_flow": null,
            "grid_area": null,
            "grid_template_columns": null,
            "flex": null,
            "_model_name": "LayoutModel",
            "justify_items": null,
            "grid_row": null,
            "max_height": null,
            "align_content": null,
            "visibility": null,
            "align_self": null,
            "height": null,
            "min_height": null,
            "padding": null,
            "grid_auto_rows": null,
            "grid_gap": null,
            "max_width": null,
            "order": null,
            "_view_module_version": "1.2.0",
            "grid_template_areas": null,
            "object_position": null,
            "object_fit": null,
            "grid_auto_columns": null,
            "margin": null,
            "display": null,
            "left": null
          }
        },
        "84a2bbae3b5c4f2da8e5002fb698d074": {
          "model_module": "@jupyter-widgets/controls",
          "model_name": "DescriptionStyleModel",
          "state": {
            "_view_name": "StyleView",
            "_model_name": "DescriptionStyleModel",
            "description_width": "",
            "_view_module": "@jupyter-widgets/base",
            "_model_module_version": "1.5.0",
            "_view_count": null,
            "_view_module_version": "1.2.0",
            "_model_module": "@jupyter-widgets/controls"
          }
        },
        "92428e0853634af4a74738e2e5575297": {
          "model_module": "@jupyter-widgets/base",
          "model_name": "LayoutModel",
          "state": {
            "_view_name": "LayoutView",
            "grid_template_rows": null,
            "right": null,
            "justify_content": null,
            "_view_module": "@jupyter-widgets/base",
            "overflow": null,
            "_model_module_version": "1.2.0",
            "_view_count": null,
            "flex_flow": null,
            "width": null,
            "min_width": null,
            "border": null,
            "align_items": null,
            "bottom": null,
            "_model_module": "@jupyter-widgets/base",
            "top": null,
            "grid_column": null,
            "overflow_y": null,
            "overflow_x": null,
            "grid_auto_flow": null,
            "grid_area": null,
            "grid_template_columns": null,
            "flex": null,
            "_model_name": "LayoutModel",
            "justify_items": null,
            "grid_row": null,
            "max_height": null,
            "align_content": null,
            "visibility": null,
            "align_self": null,
            "height": null,
            "min_height": null,
            "padding": null,
            "grid_auto_rows": null,
            "grid_gap": null,
            "max_width": null,
            "order": null,
            "_view_module_version": "1.2.0",
            "grid_template_areas": null,
            "object_position": null,
            "object_fit": null,
            "grid_auto_columns": null,
            "margin": null,
            "display": null,
            "left": null
          }
        }
      }
    }
  },
  "cells": [
    {
      "cell_type": "markdown",
      "metadata": {
        "id": "PDMVVv6JEVuR"
      },
      "source": [
        "<center>\n",
        "    <img src=\"https://github.com/GuitarsAI/MLfAS/blob/master/images/mlfasp.png?raw=1\">\n",
        "</center>\n",
        "\n",
        "#### Prof. Dr. -Ing. Gerald Schuller <br> Jupyter Notebook: Renato Profeta\n",
        "\n",
        "[Applied Media Systems Group](https://www.tu-ilmenau.de/en/applied-media-systems-group/) <br>\n",
        "[Technische Universität Ilmenau](https://www.tu-ilmenau.de/)"
      ]
    },
    {
      "cell_type": "code",
      "metadata": {
        "id": "JbufRPgmEdtK",
        "outputId": "029a530b-21bd-48e6-f945-aea3c27096a4",
        "colab": {
          "base_uri": "https://localhost:8080/"
        }
      },
      "source": [
        "# Configuration for Google Colab Runtime Environment\n",
        "\n",
        "if 'google.colab' in str(get_ipython()):\n",
        "  print('Running on CoLab')\n",
        "  !mkdir ./images\n",
        "else:\n",
        "  print('Not running on CoLab')"
      ],
      "execution_count": 2,
      "outputs": [
        {
          "output_type": "stream",
          "text": [
            "Running on CoLab\n"
          ],
          "name": "stdout"
        }
      ]
    },
    {
      "cell_type": "markdown",
      "metadata": {
        "hide_input": true,
        "id": "hvvnc_keEVuS"
      },
      "source": [
        "# Neural Networks for Classification"
      ]
    },
    {
      "cell_type": "code",
      "metadata": {
        "hide_input": true,
        "id": "beBQj1CdEVuT",
        "outputId": "9d31d2a9-e6d9-474e-88ab-c03444d0d944",
        "colab": {
          "base_uri": "https://localhost:8080/",
          "height": 336
        }
      },
      "source": [
        "%%html\n",
        "<iframe width=\"560\" height=\"315\" src=\"https://www.youtube.com/embed/Ld0cwTiXrU0?rel=0\" frameborder=\"0\" allow=\"accelerometer; encrypted-media; gyroscope; picture-in-picture\" allowfullscreen></iframe>"
      ],
      "execution_count": 3,
      "outputs": [
        {
          "output_type": "display_data",
          "data": {
            "text/html": [
              "<iframe width=\"560\" height=\"315\" src=\"https://www.youtube.com/embed/Ld0cwTiXrU0?rel=0\" frameborder=\"0\" allow=\"accelerometer; encrypted-media; gyroscope; picture-in-picture\" allowfullscreen></iframe>"
            ],
            "text/plain": [
              "<IPython.core.display.HTML object>"
            ]
          },
          "metadata": {
            "tags": []
          }
        }
      ]
    },
    {
      "cell_type": "markdown",
      "metadata": {
        "hide_input": true,
        "id": "PftlfR86EVuX"
      },
      "source": [
        "We saw in neural networks for detection, that they need to detect if a pattern is present or not. For the classification tasks we have a class of patterns, and we know that a pattern of one of the classes has to be present. The network has to decide which class. A classical application is the classification of handwritten digits. The network input are images of handwritten digits, and each image belongs to one of the 10 digit classes, 0 to 9.\n",
        "\n",
        "The network usually has as many outputs as classes (10 in the digit example), and each output might represent the probability that the image at the networks input belongs to the corresponding class. Since we know that it must be one of the 10 digits, the probabilities must add up to 1.\n",
        "\n",
        "A classical data base for this example is the MNIST database (Modified National Institute of Standards and Technology database):"
      ]
    },
    {
      "cell_type": "code",
      "metadata": {
        "hide_input": true,
        "id": "v9p5lvMrEVuX",
        "outputId": "b8bcd24a-bd17-4806-febc-e483d953a682",
        "colab": {
          "base_uri": "https://localhost:8080/",
          "height": 625
        }
      },
      "source": [
        "%%html\n",
        "<iframe src=\"https://en.wikipedia.org/wiki/MNIST_database\" width=\"900\" height=\"600\"></iframe>"
      ],
      "execution_count": 4,
      "outputs": [
        {
          "output_type": "display_data",
          "data": {
            "text/html": [
              "<iframe src=\"https://en.wikipedia.org/wiki/MNIST_database\" width=\"900\" height=\"600\"></iframe>"
            ],
            "text/plain": [
              "<IPython.core.display.HTML object>"
            ]
          },
          "metadata": {
            "tags": []
          }
        }
      ]
    },
    {
      "cell_type": "markdown",
      "metadata": {
        "hide_input": false,
        "id": "kh4dwmQ8EVub"
      },
      "source": [
        "It contains 60000 gray-scale images of handwritten images of size 28x28 pixels.\n",
        "\n",
        "Python has a function to directly access and download these images, in `torchvision.datasets.MNIST`.\n",
        "\n",
        "Look at our example:"
      ]
    },
    {
      "cell_type": "code",
      "metadata": {
        "hide_input": true,
        "id": "PsVkXFHVEVuc",
        "outputId": "9a189a7c-0afd-4d12-bc9d-9c893a3abc14",
        "colab": {
          "base_uri": "https://localhost:8080/",
          "height": 336
        }
      },
      "source": [
        "%%html\n",
        "<iframe width=\"560\" height=\"315\" src=\"https://www.youtube.com/embed/h5dliJHNqFg?rel=0\" frameborder=\"0\" allow=\"accelerometer; encrypted-media; gyroscope; picture-in-picture\" allowfullscreen></iframe>"
      ],
      "execution_count": 5,
      "outputs": [
        {
          "output_type": "display_data",
          "data": {
            "text/html": [
              "<iframe width=\"560\" height=\"315\" src=\"https://www.youtube.com/embed/h5dliJHNqFg?rel=0\" frameborder=\"0\" allow=\"accelerometer; encrypted-media; gyroscope; picture-in-picture\" allowfullscreen></iframe>"
            ],
            "text/plain": [
              "<IPython.core.display.HTML object>"
            ]
          },
          "metadata": {
            "tags": []
          }
        }
      ]
    },
    {
      "cell_type": "markdown",
      "metadata": {
        "id": "sYu73swiEVue"
      },
      "source": [
        "It uses `train_loader = torch.utils.data.DataLoader(torchvision.datasets.MNIST(..)` to load **training set** with 100 random images and target classes, and a **test set** of 10 random images and target classes.\n",
        "\n",
        "After loading and then reading in the training set with the `next(..)` function, we can check the resulting data type with a print statement and with the `.type()` function: `print( \"X_train.type()=\",X_train.type(),\"y_train.type()=\",y_train.type())`\n",
        "\n",
        "We obtain `X_train.type()= torch.FloatTensor y_train.type()=torch.LongTensor`\n",
        "\n",
        "Observe that the input signal, the images, have the type `torch.FloatTensor`, whereas the target, the correct digit class indices, have the type torch.LongTensor! **This difference in Types** becomes important when we apply a **loss function.**\n",
        "\n",
        "Next we have another \"print\" line to check for the shape and content of our data tensors:\n",
        "```python\n",
        "print(\"batch_idx=\", batch_idx, \"X_train.shape=\",\n",
        "      X_train.shape, \"y_train.shape=\", \n",
        "      y_train.shape, \"y_train=\",y_train)```\n",
        "      \n",
        "which prints out: \n",
        "`batch_idx= 0 X_train.shape= torch.Size([100, 1, 28, 28])\n",
        "y_train.shape= torch.Size([100])`\n",
        "\n",
        "\"X_train.shape= torch.Size([100, 1, 28, 28])\" shows that the first index is for the image (100 images), the 2nd index is for the batch and only contains 1 batch, and the remaining 2 indices are for the 28 pixels vertically and horizontally, respectively.\n",
        "\n",
        "\"y_train.shape= torch.Size([100])\" shows the shape of the target, which is a 1-dimensional array of 100 entries. It is one number (the correct digit) for each image. This can also be seen in the final part of the printout:\n",
        "\n",
        "`y_train= tensor([ 5, 7, 1, 2, 2, 0, 1, 0, 3, 4, 2, 2, 6, 4,\n",
        "9, 2, 6, 3, 1, 6, 1, 8, 6, 7, 1, 0, 5, 6,\n",
        "3, 7, 6, 6, 1, 2, 5, 5, 0, 1, 6, 3, 7, 4,\n",
        "7, 9, 0, 5, 5, 2, 3, 6, 8, 1, 6, 1, 4, 5,\n",
        "9, 5, 4, 1, 5, 6, 2, 9, 2, 1, 7, 7, 1, 1,\n",
        "6, 6, 2, 2, 6, 7, 9, 0, 7, 9, 5, 3, 1, 6,\n",
        "0, 3, 8, 8, 2, 4, 1, 9, 4, 3, 7, 5, 7, 5,\n",
        "6, 2])`\n",
        "\n",
        "Then we have to define our neural network as \"Class DenseNet(..)\". We take 2 fully connected layers (the nn.Linear), with bias and with a relu activation function only after the first layer:\n",
        "\n",
        "```python\n",
        "# define the neural network model\n",
        "class DenseNet(nn.Module):\n",
        "    def __init__(self):\n",
        "        super(DenseNet, self).__init__()\n",
        "        self.layer1=nn.Sequential(nn.Linear(in_features=num_pixels,\n",
        "        out_features=num_pixels))\n",
        "        self.layer2=nn.Sequential(nn.Linear(in_features=num_pixels,\n",
        "        out_features=num_classes))\n",
        "        \n",
        "    def forward(self, x):\n",
        "        x = F.relu(self.layer1(x)) #First layer with activation function\n",
        "        x = self.layer2(x) #Second layer\n",
        "        #x = torch.nn.softmax(x)\n",
        "        return x\n",
        "```\n",
        "    \n",
        "Here we choose the size of the hidden layer (the output of layer 1) the same as the number of pixels at the input, but it could also be a different number.\n",
        "\n",
        "Our program plots the first 4 images of the training set. For that we need to know the meaning of the indices (see above).\n",
        "\n",
        "For instance for the 2nd image in the set, we plot:\n",
        "`plt.imshow(X_train[1,0], cmap=plt.get_cmap('gray'))`\n",
        "\n",
        "Index \"1\" is the index of the image, index \"0\" is for the current batch or set of images (in our example we only have batch 0), and the remaining 2 indices to the right, which are not seen here, are the image pixel indices. An example set of images is:\n",
        "\n",
        "<img src='https://github.com/GuitarsAI/MLfAS/blob/master/images/03_01_imagesExample.png?raw=1' width='500'>\n",
        "\n",
        "After showing the images, we can reshape or flatten them into 1-dimensional arrays to make them suitable as input to our fully connected linear layers (remember, they only take 1-dimensional inputs). For that, we use the `.view` function:\n",
        "\n",
        "`#Flatten the images:\n",
        "X_train = X_train.view(X_train.shape[0], num_pixels)`\n",
        "\n",
        "where `X_train.shape[0]` is the number of images in the batch.\n",
        "\n",
        "Observe that we don't need to reshape the target, because that is already a 1-dimensional array of the correct classes.\n",
        "\n",
        "After showing the images, the program initialized our neural network model with:\n",
        "`model = DenseNet()#.to('cpu')`\n",
        "\n",
        "Then it defines the loss function with:\n",
        "`loss_fn = nn.CrossEntropyLoss()`"
      ]
    },
    {
      "cell_type": "markdown",
      "metadata": {
        "id": "9woWInWaEVuf"
      },
      "source": [
        "The **\"CrossEntropyLoss\"** is made for **classification** tasks, hence it expects the data type `torch.FloatTensor` from the 10 outputs of our neural network (which fits), and `torch.LongTensor` as data type for the target data, which again fits! (also look at: https://discuss.pytorch.org/t/runtimeerror-expected-object-of-type-torch-longtensor-but-found-type-torch-floattensor/23289)\n",
        "\n",
        "Go to https://pytorch.org/docs/stable/nn.html and search in the website for `nn.CrossEntropyLoss`. There you can find more detail about its definition."
      ]
    },
    {
      "cell_type": "code",
      "metadata": {
        "hide_input": true,
        "id": "hKbUPPgAEVuf",
        "outputId": "5be26b6e-b74b-49ae-c5e1-55febce43bf9",
        "colab": {
          "base_uri": "https://localhost:8080/",
          "height": 336
        }
      },
      "source": [
        "%%html\n",
        "<iframe width=\"560\" height=\"315\" src=\"https://www.youtube.com/embed/6jdwKxurqK4?rel=0\" frameborder=\"0\" allow=\"accelerometer; encrypted-media; gyroscope; picture-in-picture\" allowfullscreen></iframe>"
      ],
      "execution_count": 6,
      "outputs": [
        {
          "output_type": "display_data",
          "data": {
            "text/html": [
              "<iframe width=\"560\" height=\"315\" src=\"https://www.youtube.com/embed/6jdwKxurqK4?rel=0\" frameborder=\"0\" allow=\"accelerometer; encrypted-media; gyroscope; picture-in-picture\" allowfullscreen></iframe>"
            ],
            "text/plain": [
              "<IPython.core.display.HTML object>"
            ]
          },
          "metadata": {
            "tags": []
          }
        }
      ]
    },
    {
      "cell_type": "code",
      "metadata": {
        "hide_input": true,
        "id": "YsLCLuD7EVui",
        "outputId": "73b71741-9fbf-43b5-f852-fbbfd9553287",
        "colab": {
          "base_uri": "https://localhost:8080/",
          "height": 625
        }
      },
      "source": [
        "%%html\n",
        "<iframe src=\"https://pytorch.org/docs/stable/generated/torch.nn.CrossEntropyLoss.html#torch.nn.CrossEntropyLoss\" width=\"900\" height=\"600\"></iframe>"
      ],
      "execution_count": 7,
      "outputs": [
        {
          "output_type": "display_data",
          "data": {
            "text/html": [
              "<iframe src=\"https://pytorch.org/docs/stable/generated/torch.nn.CrossEntropyLoss.html#torch.nn.CrossEntropyLoss\" width=\"900\" height=\"600\"></iframe>"
            ],
            "text/plain": [
              "<IPython.core.display.HTML object>"
            ]
          },
          "metadata": {
            "tags": []
          }
        }
      ]
    },
    {
      "cell_type": "markdown",
      "metadata": {
        "id": "8UEXfq65EVul"
      },
      "source": [
        "It basically first applies a SoftMax function to the 10 outputs of our neural network, and turns them into probabilities, such that they always sum up to 1 (it also applies a logarithm because that is part of the cross entropy calculation, and to make the optimization more precise for very small values). \n",
        "\n",
        "It also turns the target data into probabilities of 10 classes. It assigns the correct class a probability of 1, and to the incorrect classes a probability of 0. The it applies the Cross Entropy (https://en.wikipedia.org/wiki/Cross_entropy) to these two resulting probability distributions. The Cross Entropy gives a **measure about how different 2 probability distributions are.**\n",
        "\n",
        "The cross entropy between two distributions *p(x)* and *q(x)* over classes x is defined as:\n",
        "\n",
        "$$\\large\n",
        "H(p,q)=- \\sum_x p(x) \\log(q(x))$$\n",
        "\n",
        "It can be interpreted as the number of bits needed to describe a second probability distribution based on a first probability distribution. If they are identical, then we need 0 bits, and we minimized the Cross Entropy. Now *p(x)* is our target distribution, which is 1 for the correct class and 0 elsewhere. Hence the sum degenerates to just a single summand for the correct class *x=c* , and it becomes,\n",
        "\n",
        "$$\\large\n",
        "H(p,q)= - \\log(q(c))$$\n",
        "\n",
        "where *q(c)* is the output of our network for the correct class *c*.\n",
        "\n",
        "<cite>(see also the book by Eugene Charniak: \"Introduction to Deep Learning\", MIT Press, 2018.)</cite>\n",
        "\n",
        "Hence after training or optimization the probability distribution of our network (after Softmax) should be as similar as possible to the distribution of the target.\n",
        "\n",
        "When we apply the trained network (which is called **\"inference\"**, as opposed to **\"training\"**), instead of the *Softmax* we can simply take the argmax function, which returns the index with the largest output (or probability).\n",
        "\n",
        "Next we define the optimizer for the training, with,\n",
        "`optimizer = torch.optim.Adam(model.parameters())`\n",
        "\n",
        "As before, \"Adam\" is a popular and effective optimizer for neural networks (for \"Adaptive Moments\" and is a variation\n",
        "of Stochastic Gradient Descent, see e.g. in https://towardsdatascience.com/adam-latest-trends-indeep-learning-optimization-6be9a291375c).\n",
        "\n",
        "In our case we obtain a very fast optimization with only 10 \"epochs\" (iterations), with the decreasing loss function as in this printout:\n",
        "\n",
        "`0 2.32210111618042\n",
        "2 1.169947624206543\n",
        "4 0.5694917440414429\n",
        "6 0.28307318687438965\n",
        "8 0.1408798098564148`\n",
        "\n",
        "Finally we compute the loss on our test set of 10 images:\n",
        "\n",
        "`Loss on the test set: tensor(0.4930)`\n",
        "\n",
        "which is clearly worse than on our training set (where we reached about 0.14). We also test the performance on an example image from the test set, at \"inference\" using the argmax function. It shows an image from the test set, and predicts the corresponding class.\n",
        "\n",
        "The program first shows the image to be recognized:\n",
        "\n",
        "<img src='https://github.com/GuitarsAI/MLfAS/blob/master/images/03_02_imageEx.png?raw=1' width='500'>\n",
        "\n",
        "The corresponding printout from the prediction during inference is `prediction= tensor(8)` where the \"8\" is the class, that the network is predicting the input image belonging to (the recognized digit). The image is usually correctly classified (if the human observer also recognizes the digit 8 in the image)!\n",
        "\n",
        "**Observe** that the network **always outputs a number for a digit**, even when the image **does not contain a digit.**\n",
        "\n",
        "We could fix this by introducing a class with label \"no digit\", for which we also would need training data, which makes it difficult."
      ]
    },
    {
      "cell_type": "markdown",
      "metadata": {
        "id": "upECHM1dEVul"
      },
      "source": [
        "## PyTorch Example Complete"
      ]
    },
    {
      "cell_type": "code",
      "metadata": {
        "hide_input": true,
        "id": "cKXDkxSREVul",
        "outputId": "f8ed77f6-245d-4602-85fa-1d89136ded1e",
        "colab": {
          "base_uri": "https://localhost:8080/",
          "height": 336
        }
      },
      "source": [
        "%%html\n",
        "<iframe width=\"560\" height=\"315\" src=\"https://www.youtube.com/embed/4xRcB4jB4-M?rel=0\" frameborder=\"0\" allow=\"accelerometer; encrypted-media; gyroscope; picture-in-picture\" allowfullscreen></iframe>"
      ],
      "execution_count": 8,
      "outputs": [
        {
          "output_type": "display_data",
          "data": {
            "text/html": [
              "<iframe width=\"560\" height=\"315\" src=\"https://www.youtube.com/embed/4xRcB4jB4-M?rel=0\" frameborder=\"0\" allow=\"accelerometer; encrypted-media; gyroscope; picture-in-picture\" allowfullscreen></iframe>"
            ],
            "text/plain": [
              "<IPython.core.display.HTML object>"
            ]
          },
          "metadata": {
            "tags": []
          }
        }
      ]
    },
    {
      "cell_type": "code",
      "metadata": {
        "hide_input": false,
        "id": "3sZFqce-EVup",
        "outputId": "154bfff0-2b85-48fc-cbac-a5c40aa1b9aa",
        "colab": {
          "base_uri": "https://localhost:8080/",
          "height": 1000,
          "referenced_widgets": [
            "8d81ace9da7d4350a7cd70e3f72aacc8",
            "0e794f3a81334795a216e9f10f405e3b",
            "06e71dbc466444feb8eb13ec38341cf3",
            "ca6e0a5e57a84aca9b4ff6035984c50b",
            "62204b1e00874ea1bcf588546dd401a6",
            "7e2e5742994444e69d7d3b9f8f044e41",
            "f4a87365703045bb8c279fcb1ff1d533",
            "02451cd6cc804ff8b406393507fbb150",
            "03b19ff8c63b48e49bdb195fc9577575",
            "6cfd0a7280a2408e8790ef2650ec2935",
            "ee938098bff044cf95b88af20fbfda31",
            "b13bb32842444b34898f1d702072f8f3",
            "a79c0a8d13824e6485a584677e4e0d36",
            "cce5983ad6294dca96e5628ec2b1f3b2",
            "b106afbf78394413a6cd31d432270e3d",
            "76b3ca904a2c45259346dc96ad26a6b6",
            "7980fb648e45461c9a46f4954c8e2ea5",
            "e475f4e9b803468aa25b3e4f82b4be8c",
            "2c7e63fdfbe44370b5c1745dffcbded7",
            "7db3fc05b8454682bd8dc165f20690ac",
            "6e28ae1a96864ffbbc950ccd6bd33015",
            "2c8adeb602604c42abd6193eee27c112",
            "882e912bc97141589a28a7b2d975d252",
            "48240401f50645b8970b30b0b740b6c6",
            "4d3c5106f21548778666bddecc30af46",
            "0893b4e3182f45caaf76663846f82d7a",
            "dd57f61e43aa43b8b1679b530e353e5c",
            "814045b582d44396869cf172eb9ffb69",
            "172bc3033b334999976afb6fdeb65087",
            "1aaf4bfc08a342ed8e31830da7406fc0",
            "84a2bbae3b5c4f2da8e5002fb698d074",
            "92428e0853634af4a74738e2e5575297"
          ]
        }
      },
      "source": [
        "#from: https://machinelearningmastery.com/handwritten-digit-recognition-using-convolutional-neural-networks-python-keras/\n",
        "#https://pytorch.org/docs/stable/torchvision/datasets.html#mnist\n",
        "#Translated to PyTorch and modified to a simple fully connected network,\n",
        "#by Gerald Schuller, October 2019\n",
        "\n",
        "import numpy\n",
        "import matplotlib.pyplot as plt\n",
        "import torch\n",
        "import torchvision\n",
        "import torch.nn.functional as F\n",
        "import torch.nn as nn\n",
        "import time\n",
        "\n",
        "device='cpu'\n",
        "#device='cuda'\n",
        "\n",
        "# define the neural network model\n",
        "class DenseNet(nn.Module):\n",
        "    def __init__(self):\n",
        "        super(DenseNet, self).__init__()\n",
        "        self.layer1=nn.Sequential(nn.Linear(in_features=num_pixels, out_features=num_pixels))\n",
        "        self.layer2=nn.Sequential(nn.Linear(in_features=num_pixels, out_features=num_classes))\n",
        "      \n",
        "   \n",
        "    def forward(self, x):\n",
        "        x = F.relu(self.layer1(x))  #First layer with activation function\n",
        "        x = self.layer2(x)   #Second layer\n",
        "        #x = torch.nn.Softmax(x)\n",
        "        return x\n",
        "\n",
        "\n",
        "\n",
        "batch_size_train = 100\n",
        "batch_size_test = 10\n",
        "num_classes = 10  #10 classes according to the 10 possible digits 0,...,9\n",
        "\n",
        "train_loader = torch.utils.data.DataLoader(\n",
        "    torchvision.datasets.MNIST('~/Downloads/MNISTfiles/', \n",
        "    train=True, download=True,\n",
        "    transform=torchvision.transforms.Compose([torchvision.transforms.ToTensor(),\n",
        "    torchvision.transforms.Normalize((0.1307,), (0.3081,))])),\n",
        "    batch_size=batch_size_train, shuffle=True)\n",
        "#the Normalize() arguments are mean and standard deviation.\n",
        "\n",
        "test_loader = torch.utils.data.DataLoader(\n",
        "    torchvision.datasets.MNIST('~/Downloads/MNISTfiles/', \n",
        "                               train=False, download=True,\n",
        "                               transform=torchvision.transforms.Compose(\n",
        "                                   [torchvision.transforms.ToTensor(),\n",
        "                                    torchvision.transforms.Normalize((0.1307,), (0.3081,))])),\n",
        "    batch_size=batch_size_test, shuffle=True)\n",
        "\n",
        "\n",
        "examples = enumerate(train_loader)\n",
        "# Plot ad hoc mnist instances\n",
        "\n",
        "# load (downloaded if needed) the MNIST dataset\n",
        "#(X_train, y_train), (X_test, y_test) = mnist.load_data()\n",
        "#one batch of 100 images:\n",
        "batch_idx, (X_train, y_train) = next(examples)\n",
        "print( \"X_train.type()=\",X_train.type(), \"y_train.type()=\",y_train.type())\n",
        "print(\"batch_idx=\", batch_idx, \"X_train.shape=\", X_train.shape, \"y_train.shape=\", y_train.shape, \"y_train=\", y_train)\n",
        "examples = enumerate(test_loader)\n",
        "#one batch of 100 images:\n",
        "batch_idx, (X_test, y_test) = next(examples)\n",
        "\n",
        "# plot 4 images as gray scale\n",
        "plt.subplot(221)\n",
        "plt.title(\"Some Images of the Trainigs Set\")\n",
        "plt.imshow(X_train[0,0], cmap=plt.get_cmap('gray'))\n",
        "plt.subplot(222)\n",
        "plt.imshow(X_train[1,0], cmap=plt.get_cmap('gray'))\n",
        "plt.subplot(223)\n",
        "plt.imshow(X_train[2,0], cmap=plt.get_cmap('gray'))\n",
        "plt.subplot(224)\n",
        "plt.imshow(X_train[3,0], cmap=plt.get_cmap('gray'))\n",
        "# show the plot\n",
        "plt.show()\n",
        "\n",
        "\n",
        "X_testunflat=X_test.clone() #keep original for imshow later\n",
        "# flatten 28*28 images to a 784 vector for each image\n",
        "num_pixels = X_train.shape[2] * X_train.shape[3]\n",
        "\n",
        "\n",
        "#Flatten the images:\n",
        "X_train = X_train.view(X_train.shape[0], num_pixels)\n",
        "print(\"X_train.shape=\",X_train.shape)\n",
        "X_test = X_test.reshape(X_test.shape[0], num_pixels)\n",
        "print(\"X_test.shape=\",X_test.shape)\n",
        "\n",
        "# normalize inputs from 0-255 to 0-1\n",
        "#X_train = X_train / 255\n",
        "#X_test = X_test / 255\n",
        "\n",
        "# one hot encode outputs\n",
        "#y_train = np_utils.to_categorical(y_train)\n",
        "#y_test = np_utils.to_categorical(y_test)\n",
        "\n",
        "   \n",
        "# build the model\n",
        "print(\"Generate Model:\")\n",
        "model = DenseNet()#.to('cpu')\n",
        "    \n",
        "loss_fn = nn.CrossEntropyLoss()\n",
        "#learning_rate = 1e-4\n",
        "optimizer = torch.optim.Adam(model.parameters())#, lr=learning_rate)\n",
        "\n",
        "# Fit the model\n",
        "X_train=X_train.to(device)\n",
        "y_train=y_train.to(device)\n",
        "starttime=time.time()\n",
        "for epoch in range(10):\n",
        "    Ypred=model(X_train)\n",
        "    loss=loss_fn(Ypred, y_train)\n",
        "    if epoch%2==0:\n",
        "        print(epoch, loss.item())\n",
        "    optimizer.zero_grad()\n",
        "    loss.backward()\n",
        "    optimizer.step()\n",
        "       \n",
        "endtime=time.time()\n",
        "print(\"Duration of optimization:\", endtime-starttime)\n",
        "#model.fit(X_train, y_train, validation_data=(X_test, y_test), epochs=2, batch_size=200, verbose=2)\n",
        "# Final evaluation of the model\n",
        "Ypred=model(X_test)\n",
        "loss=loss_fn(Ypred, y_test)\n",
        "#scores = model.forward(X_test, y_test, verbose=0)\n",
        "print(\"Loss on the test set:\", loss)\n",
        "\n",
        "torch.save({'model_state_dict': model.state_dict(),\n",
        "       'optimizer_state_dict': optimizer.state_dict()}, \"mnistexample_pytorch_weights.torch\")\n",
        "print(\"Wrote to mnistexample_pytorch_weights.torch\")\n",
        "\n",
        "\n",
        "#\"Inference\", predict an example digit test image:\n",
        "plt.imshow(X_testunflat[1,0], cmap=plt.get_cmap('gray'))\n",
        "plt.title(\"A Digit Image to Regognize as a Test (predicted digit in the shell)\")\n",
        "\n",
        "sample=X_test[1,:]\n",
        "print(\"sample.shape=\", sample.shape)\n",
        "Ypred=model(sample)\n",
        "print(\"Test Ypred=\", Ypred)\n",
        "prediction=torch.argmax(Ypred) #use argmax as the class with the largest output\n",
        "print(\"prediction=\", prediction)\n",
        "\n",
        "plt.show()"
      ],
      "execution_count": 9,
      "outputs": [
        {
          "output_type": "stream",
          "text": [
            "Downloading http://yann.lecun.com/exdb/mnist/train-images-idx3-ubyte.gz to /root/Downloads/MNISTfiles/MNIST/raw/train-images-idx3-ubyte.gz\n"
          ],
          "name": "stdout"
        },
        {
          "output_type": "display_data",
          "data": {
            "application/vnd.jupyter.widget-view+json": {
              "model_id": "8d81ace9da7d4350a7cd70e3f72aacc8",
              "version_minor": 0,
              "version_major": 2
            },
            "text/plain": [
              "HBox(children=(FloatProgress(value=1.0, bar_style='info', max=1.0), HTML(value='')))"
            ]
          },
          "metadata": {
            "tags": []
          }
        },
        {
          "output_type": "stream",
          "text": [
            "Extracting /root/Downloads/MNISTfiles/MNIST/raw/train-images-idx3-ubyte.gz to /root/Downloads/MNISTfiles/MNIST/raw\n",
            "Downloading http://yann.lecun.com/exdb/mnist/train-labels-idx1-ubyte.gz to /root/Downloads/MNISTfiles/MNIST/raw/train-labels-idx1-ubyte.gz\n"
          ],
          "name": "stdout"
        },
        {
          "output_type": "display_data",
          "data": {
            "application/vnd.jupyter.widget-view+json": {
              "model_id": "03b19ff8c63b48e49bdb195fc9577575",
              "version_minor": 0,
              "version_major": 2
            },
            "text/plain": [
              "HBox(children=(FloatProgress(value=1.0, bar_style='info', max=1.0), HTML(value='')))"
            ]
          },
          "metadata": {
            "tags": []
          }
        },
        {
          "output_type": "stream",
          "text": [
            "Extracting /root/Downloads/MNISTfiles/MNIST/raw/train-labels-idx1-ubyte.gz to /root/Downloads/MNISTfiles/MNIST/raw\n",
            "Downloading http://yann.lecun.com/exdb/mnist/t10k-images-idx3-ubyte.gz to /root/Downloads/MNISTfiles/MNIST/raw/t10k-images-idx3-ubyte.gz\n"
          ],
          "name": "stdout"
        },
        {
          "output_type": "display_data",
          "data": {
            "application/vnd.jupyter.widget-view+json": {
              "model_id": "7980fb648e45461c9a46f4954c8e2ea5",
              "version_minor": 0,
              "version_major": 2
            },
            "text/plain": [
              "HBox(children=(FloatProgress(value=1.0, bar_style='info', max=1.0), HTML(value='')))"
            ]
          },
          "metadata": {
            "tags": []
          }
        },
        {
          "output_type": "stream",
          "text": [
            "Extracting /root/Downloads/MNISTfiles/MNIST/raw/t10k-images-idx3-ubyte.gz to /root/Downloads/MNISTfiles/MNIST/raw\n",
            "Downloading http://yann.lecun.com/exdb/mnist/t10k-labels-idx1-ubyte.gz to /root/Downloads/MNISTfiles/MNIST/raw/t10k-labels-idx1-ubyte.gz\n"
          ],
          "name": "stdout"
        },
        {
          "output_type": "display_data",
          "data": {
            "application/vnd.jupyter.widget-view+json": {
              "model_id": "4d3c5106f21548778666bddecc30af46",
              "version_minor": 0,
              "version_major": 2
            },
            "text/plain": [
              "HBox(children=(FloatProgress(value=1.0, bar_style='info', max=1.0), HTML(value='')))"
            ]
          },
          "metadata": {
            "tags": []
          }
        },
        {
          "output_type": "stream",
          "text": [
            "Extracting /root/Downloads/MNISTfiles/MNIST/raw/t10k-labels-idx1-ubyte.gz to /root/Downloads/MNISTfiles/MNIST/raw\n",
            "Processing...\n",
            "Done!\n"
          ],
          "name": "stdout"
        },
        {
          "output_type": "stream",
          "text": [
            "/usr/local/lib/python3.6/dist-packages/torchvision/datasets/mnist.py:469: UserWarning: The given NumPy array is not writeable, and PyTorch does not support non-writeable tensors. This means you can write to the underlying (supposedly non-writeable) NumPy array using the tensor. You may want to copy the array to protect its data or make it writeable before converting it to a tensor. This type of warning will be suppressed for the rest of this program. (Triggered internally at  /pytorch/torch/csrc/utils/tensor_numpy.cpp:141.)\n",
            "  return torch.from_numpy(parsed.astype(m[2], copy=False)).view(*s)\n"
          ],
          "name": "stderr"
        },
        {
          "output_type": "stream",
          "text": [
            "\n",
            "\n",
            "X_train.type()= torch.FloatTensor y_train.type()= torch.LongTensor\n",
            "batch_idx= 0 X_train.shape= torch.Size([100, 1, 28, 28]) y_train.shape= torch.Size([100]) y_train= tensor([6, 2, 8, 1, 4, 7, 2, 1, 8, 6, 3, 0, 2, 9, 7, 7, 0, 3, 7, 4, 7, 7, 4, 5,\n",
            "        5, 9, 8, 9, 6, 6, 2, 3, 1, 6, 7, 6, 7, 9, 1, 1, 1, 9, 1, 5, 6, 8, 8, 3,\n",
            "        3, 3, 8, 7, 0, 8, 7, 3, 3, 8, 3, 8, 2, 1, 8, 6, 8, 8, 6, 9, 1, 5, 1, 7,\n",
            "        7, 8, 5, 4, 7, 7, 3, 4, 6, 6, 7, 4, 4, 6, 6, 3, 7, 8, 4, 8, 2, 8, 6, 5,\n",
            "        8, 7, 5, 4])\n",
            "\n",
            "\n"
          ],
          "name": "stdout"
        },
        {
          "output_type": "display_data",
          "data": {
            "image/png": "[encoded data removed]",
            "text/plain": [
              "<Figure size 432x288 with 4 Axes>"
            ]
          },
          "metadata": {
            "tags": [],
            "needs_background": "light"
          }
        },
        {
          "output_type": "stream",
          "text": [
            "X_train.shape= torch.Size([100, 784])\n",
            "X_test.shape= torch.Size([10, 784])\n",
            "Generate Model:\n",
            "0 2.362582206726074\n",
            "2 1.2706376314163208\n",
            "4 0.6602278351783752\n",
            "6 0.35273993015289307\n",
            "8 0.1899886280298233\n",
            "Duration of optimization: 0.3385353088378906\n",
            "Loss on the test set: tensor(2.7035, grad_fn=<NllLossBackward>)\n",
            "Wrote to mnistexample_pytorch_weights.torch\n",
            "sample.shape= torch.Size([784])\n",
            "Test Ypred= tensor([-1.0807, -0.4439, -0.7421, -0.2596, -1.1628,  0.3973,  1.6357, -0.6643,\n",
            "         0.2844, -1.3932], grad_fn=<AddBackward0>)\n",
            "prediction= tensor(6)\n"
          ],
          "name": "stdout"
        },
        {
          "output_type": "display_data",
          "data": {
            "image/png": "[encoded data removed]",
            "text/plain": [
              "<Figure size 432x288 with 1 Axes>"
            ]
          },
          "metadata": {
            "tags": [],
            "needs_background": "light"
          }
        }
      ]
    },
    {
      "cell_type": "markdown",
      "metadata": {
        "id": "ZAP7LSZyEVus"
      },
      "source": [
        "## Unknown Test Image"
      ]
    },
    {
      "cell_type": "code",
      "metadata": {
        "hide_input": true,
        "id": "LI_-8ZXgEVus",
        "outputId": "73a021d5-b7fb-49d3-8e4c-3eb82e78005b",
        "colab": {
          "base_uri": "https://localhost:8080/",
          "height": 336
        }
      },
      "source": [
        "%%html\n",
        "<iframe width=\"560\" height=\"315\" src=\"https://www.youtube.com/embed/rV7KpLe1nRk?rel=0\" frameborder=\"0\" allow=\"accelerometer; encrypted-media; gyroscope; picture-in-picture\" allowfullscreen></iframe>"
      ],
      "execution_count": 10,
      "outputs": [
        {
          "output_type": "display_data",
          "data": {
            "text/html": [
              "<iframe width=\"560\" height=\"315\" src=\"https://www.youtube.com/embed/rV7KpLe1nRk?rel=0\" frameborder=\"0\" allow=\"accelerometer; encrypted-media; gyroscope; picture-in-picture\" allowfullscreen></iframe>"
            ],
            "text/plain": [
              "<IPython.core.display.HTML object>"
            ]
          },
          "metadata": {
            "tags": []
          }
        }
      ]
    },
    {
      "cell_type": "markdown",
      "metadata": {
        "id": "ABYaniAbEVuv"
      },
      "source": [
        "To test this case of an unknown image, we generate a 28x28 picture containing just random numbers between 0 and 1 (or 0 and 255 in a jpeg image)."
      ]
    },
    {
      "cell_type": "code",
      "metadata": {
        "id": "cqZ9RKoSEVuv"
      },
      "source": [
        "import cv2\n",
        "import numpy as np\n",
        "rpic=np.random.rand(28,28)*255 #range for 8 bit unsigned integer\n",
        "cv2.imwrite(\"./images/randpic.jpg\", rpic);"
      ],
      "execution_count": 13,
      "outputs": []
    },
    {
      "cell_type": "markdown",
      "metadata": {
        "id": "vW5I3taFEVux"
      },
      "source": [
        "We extend our main program section such that it inlcudes reading our random jpeg image for testing after it took an image from the MNIST test set:"
      ]
    },
    {
      "cell_type": "code",
      "metadata": {
        "id": "WLk9bmFKEVu0",
        "outputId": "acfbbc00-bd86-4bd9-ac9c-dcc906a81c7d",
        "colab": {
          "base_uri": "https://localhost:8080/",
          "height": 814
        }
      },
      "source": [
        "#\"Inference\", predict an example digit test image:\n",
        "for pic in range(2):\n",
        "    print(\"Picture \", pic)\n",
        "    if pic==0: #take image from test set:\n",
        "        X_testorig=X_testunflat[1,0]\n",
        "        sample=X_test[1,:]\n",
        "    if pic==1: #read externa random test image, size 28x28 pixel:\n",
        "        from PIL import Image\n",
        "        image = Image.open('./images/randpic.jpg')\n",
        "        import torchvision.transforms.functional as TF\n",
        "        X_testorig = TF.to_tensor(image)\n",
        "        X_testorig = X_testorig[0,:,:]\n",
        "        sample=X_testorig.view(28*28)\n",
        "        \n",
        "    plt.imshow(X_testorig, cmap=plt.get_cmap('gray'))\n",
        "    plt.title(\"A Digit Image to Regognize as a Test (predicted digit in the shell)\")\n",
        "\n",
        "    print(\"sample.shape=\", sample.shape)\n",
        "    Ypred=model(sample)\n",
        "    sm = torch.nn.Softmax(dim=0)\n",
        "    print(\"Test Ypred=\", Ypred)\n",
        "    probabilities = sm(Ypred.detach())\n",
        "    print(\"Probabilities:\",probabilities)\n",
        "    prediction=torch.argmax(probabilities) #use argmax as the class with the largest output\n",
        "    print(\"prediction=\", prediction)\n",
        "    if probabilities[prediction] <0.8 : #not confident\n",
        "        print(\"Probably not a digit\")\n",
        "    plt.show()"
      ],
      "execution_count": 12,
      "outputs": [
        {
          "output_type": "stream",
          "text": [
            "Picture  0\n",
            "sample.shape= torch.Size([784])\n",
            "Test Ypred= tensor([-1.0807, -0.4439, -0.7421, -0.2596, -1.1628,  0.3973,  1.6357, -0.6643,\n",
            "         0.2844, -1.3932], grad_fn=<AddBackward0>)\n",
            "Probabilities: tensor([0.0302, 0.0570, 0.0423, 0.0685, 0.0278, 0.1322, 0.4561, 0.0457, 0.1181,\n",
            "        0.0221])\n",
            "prediction= tensor(6)\n",
            "Probably not a digit\n"
          ],
          "name": "stdout"
        },
        {
          "output_type": "display_data",
          "data": {
            "image/png": "[encoded data removed]",
            "text/plain": [
              "<Figure size 432x288 with 1 Axes>"
            ]
          },
          "metadata": {
            "tags": [],
            "needs_background": "light"
          }
        },
        {
          "output_type": "stream",
          "text": [
            "Picture  1\n",
            "sample.shape= torch.Size([784])\n",
            "Test Ypred= tensor([ 0.0945, -0.3732,  0.5522, -0.0677, -0.7717, -0.5112, -0.2774, -0.6847,\n",
            "         0.4926, -0.2874], grad_fn=<AddBackward0>)\n",
            "Probabilities: tensor([0.1199, 0.0751, 0.1894, 0.1019, 0.0504, 0.0654, 0.0826, 0.0550, 0.1785,\n",
            "        0.0818])\n",
            "prediction= tensor(2)\n",
            "Probably not a digit\n"
          ],
          "name": "stdout"
        },
        {
          "output_type": "display_data",
          "data": {
            "image/png": "[encoded data removed]",
            "text/plain": [
              "<Figure size 432x288 with 1 Axes>"
            ]
          },
          "metadata": {
            "tags": [],
            "needs_background": "light"
          }
        }
      ]
    }
  ]
}